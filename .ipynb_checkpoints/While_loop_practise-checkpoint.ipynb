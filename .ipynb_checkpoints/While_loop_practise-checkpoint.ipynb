{
 "cells": [
  {
   "cell_type": "code",
   "execution_count": null,
   "metadata": {},
   "outputs": [],
   "source": [
    "#While loop\n",
    "#syntax\n",
    "# while<condition>\n",
    "#     <operations>\n",
    "#eg  * Compare both For and While Loop\n",
    "\n",
    "a=0\n",
    "while a<5:\n",
    "    print(\"Hello World\")\n",
    "    a=a+1 #or a+=1\n",
    "print(\"-----------------\") \n",
    "for i in range(5):\n",
    "    print(\"Hello World\")\n"
   ]
  },
  {
   "cell_type": "code",
   "execution_count": null,
   "metadata": {},
   "outputs": [],
   "source": [
    "a=0\n",
    "s=0\n",
    "n=int(input(\"Enter n= \"))\n",
    "while a<n:\n",
    "    x=int(input(\"Enter value of X = \"))\n",
    "    s=s+x\n",
    "    a=a+1\n",
    "print(s)\n",
    "print(\"--------------------------\")\n",
    "#using for loop\n",
    "n=int(input(\"Enter the value of n = \"))\n",
    "s=0\n",
    "for i in range(n):\n",
    "    x=int(input(\"enter the value of x = \"))\n",
    "    s=s+x\n",
    "print(s)"
   ]
  },
  {
   "cell_type": "code",
   "execution_count": 5,
   "metadata": {},
   "outputs": [
    {
     "name": "stdout",
     "output_type": "stream",
     "text": [
      "Enter the value for table = 5\n",
      "5 * 1 = 5\n",
      "5 * 2 = 10\n",
      "5 * 3 = 15\n",
      "5 * 4 = 20\n",
      "5 * 5 = 25\n",
      "5 * 6 = 30\n",
      "5 * 7 = 35\n",
      "5 * 8 = 40\n",
      "5 * 9 = 45\n",
      "5 * 10 = 50\n",
      "--------------------------\n",
      "Enter the value for table = 5\n",
      "5 * 1 = 5\n",
      "5 * 2 = 10\n",
      "5 * 3 = 15\n",
      "5 * 4 = 20\n",
      "5 * 5 = 25\n",
      "5 * 6 = 30\n",
      "5 * 7 = 35\n",
      "5 * 8 = 40\n",
      "5 * 9 = 45\n",
      "5 * 10 = 50\n"
     ]
    }
   ],
   "source": [
    "n= int(input(\"Enter the value for table = \"))\n",
    "a=1\n",
    "while a<=10:\n",
    "    print(n,\"*\",a,\"=\",a*n)\n",
    "    a=a+1\n",
    "print(\"--------------------------\")\n",
    "#using for loop\n",
    "n= int(input(\"Enter the value for table = \"))\n",
    "for i in range(1,11):\n",
    "    print(n,\"*\",i,\"=\",i*n)"
   ]
  },
  {
   "cell_type": "code",
   "execution_count": 2,
   "metadata": {},
   "outputs": [
    {
     "name": "stdout",
     "output_type": "stream",
     "text": [
      "enter the list no 2\n",
      "Enter the name = om\n",
      "Enter the phone no. 124554\n",
      "Enter the age 21\n",
      "Enter the name = mahesh\n",
      "Enter the phone no. 125454\n",
      "Enter the age 21\n",
      "om--124554--21\n",
      "mahesh--125454--21\n",
      "\n",
      "-------------------------------\n",
      "enter the list no 2\n",
      "Enter the name = om\n",
      "Enter the phone no. 21554\n",
      "Enter the age 21\n",
      "Enter the name = mahesh\n",
      "Enter the phone no. 215545\n",
      "Enter the age 21\n",
      "om--21554--21\n",
      "mahesh--215545--21\n",
      "\n"
     ]
    }
   ],
   "source": [
    "a=1\n",
    "data =\"\"\n",
    "n= int(input(\"enter the list no \"))\n",
    "while a<=n:\n",
    "    name = input(\"Enter the name = \")\n",
    "    phone = int(input(\"Enter the phone no. \"))\n",
    "    age = int(input(\"Enter the age \"))\n",
    "    info= name+\"--\"+ str(phone) +\"--\" +str(age) \n",
    "    data =data+info+\"\\n\"\n",
    "    a=a+1\n",
    "print(data)\n",
    "print(\"-------------------------------\")\n",
    "#USING for loop\n",
    "data=\"\"\n",
    "n=int(input(\"enter the list no \"))\n",
    "for i in range(n):\n",
    "    name = input(\"Enter the name = \")\n",
    "    phone = int(input(\"Enter the phone no. \"))\n",
    "    age = int(input(\"Enter the age \"))\n",
    "    info= name+\"--\"+ str(phone) +\"--\" +str(age) \n",
    "    data =data+info+\"\\n\"\n",
    "print(data)"
   ]
  },
  {
   "cell_type": "code",
   "execution_count": 3,
   "metadata": {},
   "outputs": [
    {
     "name": "stdout",
     "output_type": "stream",
     "text": [
      "--------------------------\n",
      "enter the number to check +ve or -ve = 5\n",
      "the number is positive\n"
     ]
    }
   ],
   "source": [
    "#check positive nmber\n",
    "a= int(input(\"Enter the number \"))\n",
    "while a>0:\n",
    "    print(a,\"is positive number\")\n",
    "    break\n",
    "while a<0:\n",
    "    print(a,\"is negative number\")\n",
    "    break\n",
    "print(\"--------------------------\")\n",
    "\n",
    "#using for if loop\n",
    "n=int(input(\"enter the number to check +ve or -ve = \"))\n",
    "for i in range(1):\n",
    "    if n>0:\n",
    "        print(\"the number is positive\")\n",
    "    else:\n",
    "        print(\"the number is negative\")"
   ]
  },
  {
   "cell_type": "code",
   "execution_count": 20,
   "metadata": {},
   "outputs": [
    {
     "name": "stdout",
     "output_type": "stream",
     "text": [
      "11\n",
      "Hello\n",
      "-------------------------------\n",
      "11\n",
      "Hello"
     ]
    }
   ],
   "source": [
    "#string iterable\n",
    "a= \"Hello world\"\n",
    "n=len(a)\n",
    "print(n) #print the length of a\n",
    "b=0\n",
    "while b<n:\n",
    "    if a[b] ==\" \":\n",
    "        break\n",
    "    print(a[b],end=\"\")\n",
    "    b=b+1\n",
    "    \n",
    "print(\"\\n\"+\"-------------------------------\")\n",
    "a=\"Hello World\"\n",
    "print(len(a))\n",
    "for i in a:\n",
    "    if i == \" \":\n",
    "        break\n",
    "    print(i,end=\"\")\n",
    "   \n",
    "     \n",
    "        \n",
    "   \n",
    "    "
   ]
  },
  {
   "cell_type": "code",
   "execution_count": null,
   "metadata": {},
   "outputs": [],
   "source": []
  }
 ],
 "metadata": {
  "kernelspec": {
   "display_name": "Python 3",
   "language": "python",
   "name": "python3"
  },
  "language_info": {
   "codemirror_mode": {
    "name": "ipython",
    "version": 3
   },
   "file_extension": ".py",
   "mimetype": "text/x-python",
   "name": "python",
   "nbconvert_exporter": "python",
   "pygments_lexer": "ipython3",
   "version": "3.7.4"
  }
 },
 "nbformat": 4,
 "nbformat_minor": 2
}
