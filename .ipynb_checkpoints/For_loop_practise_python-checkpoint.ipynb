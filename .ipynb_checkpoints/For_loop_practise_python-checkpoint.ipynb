{
 "cells": [
  {
   "cell_type": "code",
   "execution_count": 1,
   "metadata": {},
   "outputs": [],
   "source": [
    "#lopps practise\n",
    "#for loops\n",
    "#nested loops"
   ]
  },
  {
   "cell_type": "code",
   "execution_count": 2,
   "metadata": {},
   "outputs": [],
   "source": [
    "# syntax for other program java, c++\n",
    "# for(i=0, i<5,i++){\n",
    "#    System.out.println(i);\n",
    "# } "
   ]
  },
  {
   "cell_type": "code",
   "execution_count": 3,
   "metadata": {},
   "outputs": [],
   "source": [
    "#for integer (int is not iterable so range are used)\n",
    "#range() parameter will be min 1 and max 3\n",
    "# range(5)\n",
    "# range(1,5)\n",
    "# range(1,10,2)\n",
    "\n",
    "#for String no range are used(string is iterable)"
   ]
  },
  {
   "cell_type": "code",
   "execution_count": 4,
   "metadata": {},
   "outputs": [
    {
     "name": "stdout",
     "output_type": "stream",
     "text": [
      "0 running times Output\n",
      "1 running times Output\n",
      "2 running times Output\n",
      "3 running times Output\n",
      "4 running times Output\n",
      "5 running times Output\n"
     ]
    }
   ],
   "source": [
    "#synatx for python for loop\n",
    "# for i in range(x):#x be the looping time, i be the no. \n",
    "#     print(i,\"Hello world\")# printing line\n",
    "#example\n",
    "for i in range(6):\n",
    "    print(i,\"running times Output\")"
   ]
  },
  {
   "cell_type": "code",
   "execution_count": 5,
   "metadata": {},
   "outputs": [
    {
     "name": "stdout",
     "output_type": "stream",
     "text": [
      "1 runnning time output\n",
      "2 runnning time output\n",
      "3 runnning time output\n",
      "4 runnning time output\n"
     ]
    }
   ],
   "source": [
    "# for i in range(x,y): x be the starting index, y be the looping time or running time\n",
    "#     print()\n",
    "for i in range(1,5):\n",
    "    print(i,\"runnning time output\")"
   ]
  },
  {
   "cell_type": "code",
   "execution_count": 6,
   "metadata": {},
   "outputs": [
    {
     "name": "stdout",
     "output_type": "stream",
     "text": [
      "1 runnning time output\n",
      "3 runnning time output\n",
      "5 runnning time output\n",
      "7 runnning time output\n",
      "9 runnning time output\n"
     ]
    }
   ],
   "source": [
    "# for i in range(x,y,z):x be the starting index, y be the looping time, z will increase the value of i\n",
    "#     print()\n",
    "for i in range(1,10,2):\n",
    "    print(i,\"runnning time output\")"
   ]
  },
  {
   "cell_type": "code",
   "execution_count": 7,
   "metadata": {},
   "outputs": [
    {
     "name": "stdout",
     "output_type": "stream",
     "text": [
      "Table of 5\n",
      "1 * 5 = 5\n",
      "2 * 5 = 10\n",
      "3 * 5 = 15\n",
      "4 * 5 = 20\n",
      "5 * 5 = 25\n",
      "6 * 5 = 30\n",
      "7 * 5 = 35\n",
      "8 * 5 = 40\n",
      "9 * 5 = 45\n",
      "10 * 5 = 50\n"
     ]
    }
   ],
   "source": [
    "#example of for loop\n",
    "#WAP for multiplication table user defined\n",
    "n= int(input(\"Table of \"))\n",
    "for i in range(1,11):\n",
    "    print(i,\"*\",n,\"=\",i*n)"
   ]
  },
  {
   "cell_type": "code",
   "execution_count": 8,
   "metadata": {},
   "outputs": [
    {
     "name": "stdout",
     "output_type": "stream",
     "text": [
      "Total no. of value for sum = 4\n",
      "Enter your number for sum = 12\n",
      "Enter your number for sum = 45\n",
      "Enter your number for sum = 454\n",
      "Enter your number for sum = 4\n",
      "The sum is =  515\n",
      "The average value is =  257.5\n"
     ]
    }
   ],
   "source": [
    "#WAP to sum a user defined no. and their average value\n",
    "s=0\n",
    "u = int(input(\"Total no. of value for sum = \"))\n",
    "for i in range(u):\n",
    "    n= int (input(\"Enter your number for sum = \"))\n",
    "    s=s+n\n",
    "print(\"The sum is = \",s)\n",
    "print(\"The average value is = \",s/2)   "
   ]
  },
  {
   "cell_type": "code",
   "execution_count": 9,
   "metadata": {},
   "outputs": [
    {
     "name": "stdout",
     "output_type": "stream",
     "text": [
      "factorial number of 4\n",
      "= 24\n"
     ]
    }
   ],
   "source": [
    "#WAP for factorial user defined no.\n",
    "fac=1\n",
    "u = int(input(\"factorial number of \"))\n",
    "for i in range(1,u+1):\n",
    "    fac=fac*i\n",
    "print(\"=\",fac)"
   ]
  },
  {
   "cell_type": "code",
   "execution_count": 38,
   "metadata": {},
   "outputs": [
    {
     "name": "stdout",
     "output_type": "stream",
     "text": [
      "Starting number = 1\n",
      "last number = 25\n",
      "Answer:- \n",
      "Odd number Between  1 to 25  =\n",
      "1,3,5,7,9,11,13,15,17,19,21,23,\n",
      "---------------------------------\n",
      "Even number Between  1 to 25  =\n",
      "2,4,6,8,10,12,14,16,18,20,22,24,"
     ]
    }
   ],
   "source": [
    "#WAP to find odd number and Even number range is user defined\n",
    "s= int(input(\"Starting number = \"))\n",
    "l= int(input(\"last number = \"))\n",
    "print(\"Answer:- \")\n",
    "o =\"O\"\n",
    "print(\"Odd number Between \",s, \"to\",l,\" =\")\n",
    "for i in o: \n",
    "    for i in range(s,l):\n",
    "        if i%2 !=0:\n",
    "            print(i, end=\",\")   \n",
    "e =\"E\"\n",
    "print(\"\\n\"+\"---------------------------------\")\n",
    "for i in e:   \n",
    "    print(\"Even number Between \",s, \"to\",l,\" =\")\n",
    "    for i in range(s,l):\n",
    "        if i%2 ==0:\n",
    "            print(i, end=\",\")   "
   ]
  },
  {
   "cell_type": "code",
   "execution_count": 13,
   "metadata": {},
   "outputs": [
    {
     "name": "stdout",
     "output_type": "stream",
     "text": [
      "Enter how many number you can check = 2\n",
      "Enter x = adfsgd\n",
      "adfsgd\n",
      "Enter x = hjfsj\n",
      "First Letter should be start from A & a \n"
     ]
    }
   ],
   "source": [
    "#WAP for the starting letter will be alphabets A & a \n",
    "R = int(input(\"Enter how many number you can check = \"))\n",
    "for i in range(R):\n",
    "    x = input(\"Enter x = \")\n",
    "    if x[0] == \"A\": # if (x[0] == \"A\") or (x[0] == \"a\")\n",
    "        print(x)\n",
    "    elif x[0] == \"a\":\n",
    "        print(x)\n",
    "    else:\n",
    "        print(\"First Letter should be start from A & a \")"
   ]
  },
  {
   "cell_type": "code",
   "execution_count": 21,
   "metadata": {},
   "outputs": [
    {
     "name": "stdout",
     "output_type": "stream",
     "text": [
      "Enter the no. of pepole data store = 2\n",
      "Enter your Name : mahe\n",
      "Enter your Phone no. : 125454\n",
      "Enter your Address : hgsa\n",
      "Enter your Age :14\n",
      "Enter your Name : hjehj\n",
      "Enter your Phone no. : 54512\n",
      "Enter your Address : ghefgh\n",
      "Enter your Age :21\n",
      "Name: mahe Phone No. : 125454 Address : hgsa Age : 14\n",
      "\n",
      "Name: hjehj Phone No. : 54512 Address : ghefgh Age : 21\n",
      "\n",
      "\n"
     ]
    }
   ],
   "source": [
    "#WAP to store number of people name phone no address and age user defined\n",
    "data=\"\"\n",
    "n =int(input(\"Enter the no. of pepole data store = \"))\n",
    "for i in range(n):\n",
    "    name=input(\"Enter your Name : \")\n",
    "    phone=int(input(\"Enter your Phone no. : \"))\n",
    "    address=input(\"Enter your Address : \")\n",
    "    age=int(input(\"Enter your Age :\"))\n",
    "    info=\"Name: \"+ name + \"  Phone No. : \"+str(phone) +\"  Address : \"+ address +\"  Age : \"+ str(age) + \"\\n\"\n",
    "    data =data+info+\"\\n\"\n",
    "    \n",
    "print(data)"
   ]
  },
  {
   "cell_type": "code",
   "execution_count": 22,
   "metadata": {},
   "outputs": [
    {
     "name": "stdout",
     "output_type": "stream",
     "text": [
      "p Times running output\n",
      "y Times running output\n",
      "t Times running output\n",
      "h Times running output\n",
      "o Times running output\n",
      "n Times running output\n"
     ]
    }
   ],
   "source": [
    "#for String iterable\n",
    "a = \"python\"\n",
    "for i in a:\n",
    "    print(i,\"Times running output\")"
   ]
  },
  {
   "cell_type": "code",
   "execution_count": 24,
   "metadata": {},
   "outputs": [
    {
     "name": "stdout",
     "output_type": "stream",
     "text": [
      "pyton"
     ]
    }
   ],
   "source": [
    "#break one time ruuning using string range\n",
    "a = \"python\"\n",
    "for i in a:\n",
    "    if i != \"h\":\n",
    "        print(i,end=\"\")"
   ]
  },
  {
   "cell_type": "code",
   "execution_count": null,
   "metadata": {},
   "outputs": [],
   "source": [
    "#Control Statements\n",
    "#break\n",
    "#continue\n"
   ]
  },
  {
   "cell_type": "code",
   "execution_count": 33,
   "metadata": {},
   "outputs": [
    {
     "name": "stdout",
     "output_type": "stream",
     "text": [
      "python "
     ]
    }
   ],
   "source": [
    "#means not run after it find \n",
    "a = \"python is programming Language\"\n",
    "for i in a:\n",
    "    if i ==\"i\":\n",
    "        break\n",
    "    print(i,end = \"\")"
   ]
  },
  {
   "cell_type": "code",
   "execution_count": null,
   "metadata": {},
   "outputs": [],
   "source": [
    "#for delete letter it should be used\n",
    "a = \"python is programming Language\"\n",
    "for i in a:\n",
    "    if i == \"y\":\n",
    "        continue\n",
    "    print(i,end = \"\")"
   ]
  },
  {
   "cell_type": "code",
   "execution_count": 33,
   "metadata": {},
   "outputs": [
    {
     "name": "stdout",
     "output_type": "stream",
     "text": [
      "enter the starting value = 1\n",
      "enter the last value = 21\n",
      "Prime Number are:- \n",
      "1,2,3,5,7,11,13,17,19,\n",
      "---------------------------------\n",
      "Composite Number are:- \n",
      "4,6,8,9,10,12,14,15,16,18,20,"
     ]
    }
   ],
   "source": [
    "#Home work(Prime Number and Composite Number)\n",
    "s = int(input(\"enter the starting value = \"))\n",
    "l = int(input(\"enter the last value = \"))\n",
    "print(\"Prime Number are:- \")\n",
    "for i in range(s, l+1):\n",
    "    if i>0:\n",
    "        for j in range(2, i):\n",
    "            if (i % j) == 0:\n",
    "                break  \n",
    "        else:\n",
    "            print(i,end=\",\")\n",
    "            \n",
    "print(\"\\n\"+\"---------------------------------\")\n",
    "print(\"Composite Number are:- \")          \n",
    "for i in range(s,l): \n",
    "    if i>0:\n",
    "        for j in range(2, i):\n",
    "            if(i%j)==0:\n",
    "                print(i, end =\",\")\n",
    "                break\n",
    "            "
   ]
  },
  {
   "cell_type": "code",
   "execution_count": 35,
   "metadata": {},
   "outputs": [
    {
     "name": "stdout",
     "output_type": "stream",
     "text": [
      "enter the value = 5\n",
      "0,1,1,2,3,5,8,"
     ]
    }
   ],
   "source": [
    "#fibonisis series\n",
    "#0,1,1,2,3,5,8,......\n",
    "a=0\n",
    "b=1\n",
    "n=int(input(\"enter the value = \"))\n",
    "for i in range(n+1):\n",
    "    if i<1:\n",
    "        print(a,end=\",\")\n",
    "        print(b,end=\",\")\n",
    "    elif i>0:\n",
    "        c=a+b\n",
    "        print(c,end=\",\") \n",
    "        a=b\n",
    "        b=c"
   ]
  },
  {
   "cell_type": "code",
   "execution_count": null,
   "metadata": {},
   "outputs": [],
   "source": []
  },
  {
   "cell_type": "code",
   "execution_count": null,
   "metadata": {},
   "outputs": [],
   "source": []
  }
 ],
 "metadata": {
  "kernelspec": {
   "display_name": "Python 3",
   "language": "python",
   "name": "python3"
  },
  "language_info": {
   "codemirror_mode": {
    "name": "ipython",
    "version": 3
   },
   "file_extension": ".py",
   "mimetype": "text/x-python",
   "name": "python",
   "nbconvert_exporter": "python",
   "pygments_lexer": "ipython3",
   "version": "3.7.4"
  }
 },
 "nbformat": 4,
 "nbformat_minor": 2
}
