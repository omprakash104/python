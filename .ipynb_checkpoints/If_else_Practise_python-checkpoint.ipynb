{
 "cells": [
  {
   "cell_type": "code",
   "execution_count": 20,
   "metadata": {},
   "outputs": [],
   "source": [
    "#if else \n",
    "#Syntax\n",
    "# if <condition>:\n",
    "#     <operations>\n",
    "# elif<condition>:\n",
    "#     <operations>\n",
    "# elif<condition>:\n",
    "#     <operations>\n",
    "# else:\n",
    "#     <operations>\n",
    "#Nested Loops \n",
    "# if<condition>\n",
    "#     if<condition>\n",
    "#        <operations>\n",
    "#     elif<condition>\n",
    "#          <operations>\n",
    "#     else:\n",
    "#         <operations>\n",
    "#elif<condition>\n",
    "#     <operations>\n",
    "# else:\n",
    "#     <operations>\n",
    "    \n",
    "#condition are < > == <= >= != and & or |"
   ]
  },
  {
   "cell_type": "code",
   "execution_count": 21,
   "metadata": {},
   "outputs": [
    {
     "name": "stdout",
     "output_type": "stream",
     "text": [
      "Enter a = 1\n",
      "Enter b = 2\n",
      "Enter c = 5\n",
      "c is greater\n"
     ]
    }
   ],
   "source": [
    "#WAP to check which value is greater\n",
    "a = int(input(\"Enter a = \"))\n",
    "b = int(input(\"Enter b = \"))\n",
    "c = int(input(\"Enter c = \"))\n",
    "if a>b & a>c:\n",
    "    print(\"a is greater\")\n",
    "elif b>a and b>c:\n",
    "    print(\"b is greater\")\n",
    "elif c>a and c>b:\n",
    "    print(\"c is greater\")\n",
    "else:\n",
    "    print(\"Both are equal\")"
   ]
  },
  {
   "cell_type": "code",
   "execution_count": 3,
   "metadata": {},
   "outputs": [
    {
     "name": "stdout",
     "output_type": "stream",
     "text": [
      "Enter a = 12\n",
      "Enter b = 124\n",
      "Enter operator + - * / +\n",
      "136\n"
     ]
    }
   ],
   "source": [
    "#WAP to create simple calculator by user defined number and operators\n",
    "a = int(input(\"Enter a = \"))\n",
    "b = int(input(\"Enter b = \"))\n",
    "o = input(\"Enter operator + - * / \")\n",
    "if o == '+':\n",
    "    print(a+b)\n",
    "elif o == '-':\n",
    "    print(a-b)\n",
    "elif o == '*':\n",
    "    print(a*b)\n",
    "elif o == '/' and b != 0: \n",
    "    print(a/b)\n",
    "elif b == 0:\n",
    "    print(\"value of b can not be zero\")\n",
    "else:\n",
    "    print(\"Invalid Operator\")"
   ]
  },
  {
   "cell_type": "code",
   "execution_count": 19,
   "metadata": {},
   "outputs": [
    {
     "name": "stdout",
     "output_type": "stream",
     "text": [
      "Enter a = 1\n",
      "Enter b = 2\n",
      "Enter operator + - * / -\n",
      "The subtract of 1 and 2 =  -1\n"
     ]
    }
   ],
   "source": [
    "#using nested if loop of above program \n",
    "a = int(input(\"Enter a = \"))\n",
    "b = int(input(\"Enter b = \"))\n",
    "o = input(\"Enter operator + - * / \")\n",
    "if o ==\"+\" :\n",
    "    print(\"The sum of\", a ,\"and\", b, \"= \",a+b)\n",
    "elif o == \"-\":\n",
    "    print(\"The subtract of\", a ,\"and\", b, \"= \",a-b)\n",
    "elif o == \"*\":\n",
    "    print(\"The multiply of\", a ,\"and\", b, \"= \",a*b)\n",
    "elif o == \"/\":\n",
    "    if b != 0:\n",
    "        print(\"The divide of\", a ,\"and\", b, \"= \",a/b)\n",
    "    else:\n",
    "        print(\"value of b should not be zero in divide its value is infinity\")\n",
    "else:\n",
    "    print(\"Invalid operators\")"
   ]
  },
  {
   "cell_type": "code",
   "execution_count": null,
   "metadata": {},
   "outputs": [],
   "source": []
  },
  {
   "cell_type": "code",
   "execution_count": null,
   "metadata": {},
   "outputs": [],
   "source": []
  }
 ],
 "metadata": {
  "kernelspec": {
   "display_name": "Python 3",
   "language": "python",
   "name": "python3"
  },
  "language_info": {
   "codemirror_mode": {
    "name": "ipython",
    "version": 3
   },
   "file_extension": ".py",
   "mimetype": "text/x-python",
   "name": "python",
   "nbconvert_exporter": "python",
   "pygments_lexer": "ipython3",
   "version": "3.7.4"
  }
 },
 "nbformat": 4,
 "nbformat_minor": 2
}
