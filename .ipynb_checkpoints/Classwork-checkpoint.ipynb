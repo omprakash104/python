{
 "cells": [
  {
   "cell_type": "code",
   "execution_count": null,
   "metadata": {},
   "outputs": [],
   "source": []
  },
  {
   "cell_type": "code",
   "execution_count": null,
   "metadata": {},
   "outputs": [],
   "source": []
  },
  {
   "cell_type": "code",
   "execution_count": 2,
   "metadata": {},
   "outputs": [
    {
     "data": {
      "text/plain": [
       "'hello world'"
      ]
     },
     "execution_count": 2,
     "metadata": {},
     "output_type": "execute_result"
    }
   ],
   "source": [
    "#array range \n",
    "a= \"hello world\"\n",
    "a[0:100]"
   ]
  },
  {
   "cell_type": "code",
   "execution_count": 4,
   "metadata": {},
   "outputs": [
    {
     "data": {
      "text/plain": [
       "'dlrow ol'"
      ]
     },
     "execution_count": 4,
     "metadata": {},
     "output_type": "execute_result"
    }
   ],
   "source": [
    "#reverce range\n",
    "a=\"hello world\"\n",
    "a[10:2:-1]"
   ]
  },
  {
   "cell_type": "code",
   "execution_count": 1,
   "metadata": {},
   "outputs": [],
   "source": [
    "#lopping"
   ]
  },
  {
   "cell_type": "code",
   "execution_count": null,
   "metadata": {},
   "outputs": [],
   "source": [
    "#if else statement\n",
    "a=5\n",
    "b=10\n",
    "c=23\n",
    "if b>a & b>c:\n",
    "    "
   ]
  },
  {
   "cell_type": "markdown",
   "metadata": {},
   "source": [
    "\n"
   ]
  },
  {
   "cell_type": "code",
   "execution_count": null,
   "metadata": {},
   "outputs": [],
   "source": [
    "#calculator\n",
    "a= int(input(\"enter the value of first number = \"))\n",
    "b= int(input(\"enter the value of second number = \"))\n",
    "o= input(\"enter the operator like + - * / = \")\n",
    "if o == '+':\n",
    "    print(a+b)\n",
    "elif o == '-':\n",
    "    print(a-b)\n",
    "elif o == '*':\n",
    "    print(a*b)\n",
    "elif o =='/' and b != 0:\n",
    "    print(a/b)\n",
    "elif b == 0:\n",
    "    print('value of b can not be zero')\n",
    "else:\n",
    "    print(\"invalid operator\")"
   ]
  },
  {
   "cell_type": "code",
   "execution_count": null,
   "metadata": {},
   "outputs": [],
   "source": [
    "#nesting loop\n",
    "if o == '+':\n",
    "    print(a+b)\n",
    "elif o == '-':\n",
    "    print(a-b)\n",
    "elif o == '*':\n",
    "    print(a*b)\n",
    "elif o =='/' \n",
    "    if b == 0:\n",
    "        print('value of b can not be zero')\n",
    "    else:\n",
    "        print(a/b)\n",
    "else:\n",
    "    print(\"invalid operator\")\n",
    "    "
   ]
  },
  {
   "cell_type": "code",
   "execution_count": 1,
   "metadata": {},
   "outputs": [
    {
     "name": "stdout",
     "output_type": "stream",
     "text": [
      "0 hello world\n",
      "1 hello world\n",
      "2 hello world\n",
      "3 hello world\n",
      "4 hello world\n"
     ]
    }
   ],
   "source": [
    "#loop\n",
    "#for loop\n",
    "for i in range(5):\n",
    "    print(i,\"hello world\")"
   ]
  },
  {
   "cell_type": "code",
   "execution_count": 2,
   "metadata": {},
   "outputs": [
    {
     "name": "stdout",
     "output_type": "stream",
     "text": [
      "1 hello world\n",
      "2 hello world\n",
      "3 hello world\n",
      "4 hello world\n"
     ]
    }
   ],
   "source": [
    "for i in range(1,5):\n",
    "    print(i,\"hello world\")"
   ]
  },
  {
   "cell_type": "code",
   "execution_count": 3,
   "metadata": {},
   "outputs": [
    {
     "name": "stdout",
     "output_type": "stream",
     "text": [
      "1 hello world\n",
      "3 hello world\n",
      "5 hello world\n",
      "7 hello world\n",
      "9 hello world\n"
     ]
    }
   ],
   "source": [
    "for i in range(1,10,2):\n",
    "    print(i,\"hello world\")"
   ]
  },
  {
   "cell_type": "code",
   "execution_count": 4,
   "metadata": {},
   "outputs": [
    {
     "name": "stdout",
     "output_type": "stream",
     "text": [
      "5\n",
      "10\n",
      "15\n",
      "20\n",
      "25\n",
      "30\n",
      "35\n",
      "40\n",
      "45\n",
      "50\n"
     ]
    }
   ],
   "source": [
    "#creating table of 5\n",
    "x=5\n",
    "for i in range(1,11):\n",
    "    print(i*5,)"
   ]
  },
  {
   "cell_type": "code",
   "execution_count": 5,
   "metadata": {},
   "outputs": [
    {
     "name": "stdout",
     "output_type": "stream",
     "text": [
      "enter the value = 5\n",
      "5 * 1 = 5\n",
      "5 * 2 = 10\n",
      "5 * 3 = 15\n",
      "5 * 4 = 20\n",
      "5 * 5 = 25\n",
      "5 * 6 = 30\n",
      "5 * 7 = 35\n",
      "5 * 8 = 40\n",
      "5 * 9 = 45\n",
      "5 * 10 = 50\n"
     ]
    }
   ],
   "source": [
    "#creating table of user defined value\n",
    "x=int(input('enter the value = '))\n",
    "for i in range(1,11):\n",
    "    print(x,'*',i,'=',i*5,)"
   ]
  },
  {
   "cell_type": "code",
   "execution_count": 9,
   "metadata": {},
   "outputs": [
    {
     "name": "stdout",
     "output_type": "stream",
     "text": [
      "enter n = 4\n",
      "enter x =12\n",
      "enter x =13\n",
      "enter x =15\n",
      "enter x =15\n",
      "the sum is =  55\n"
     ]
    }
   ],
   "source": [
    "#user defined sum and their average\n",
    "s=0\n",
    "n=int(input(\"enter n = \"))\n",
    "for i in range(n):\n",
    "    x = int(input(\"enter x =\"))\n",
    "    s= s+x\n",
    "print(\"the sum is = \",s)\n",
    "print(\"the average is = \",s/2)"
   ]
  },
  {
   "cell_type": "code",
   "execution_count": 10,
   "metadata": {},
   "outputs": [
    {
     "name": "stdout",
     "output_type": "stream",
     "text": [
      "enter the value4\n",
      "24\n"
     ]
    }
   ],
   "source": [
    "#factorial\n",
    "fac=1\n",
    "n= int(input(\"enter the value = \")) #running time \n",
    "for i in range(1,n+1): # n+1 value of i increasing by n times\n",
    "    fac=fac*i\n",
    "print(fac)"
   ]
  },
  {
   "cell_type": "code",
   "execution_count": 11,
   "metadata": {},
   "outputs": [
    {
     "name": "stdout",
     "output_type": "stream",
     "text": [
      "1\n",
      "3\n",
      "5\n",
      "7\n",
      "9\n",
      "11\n",
      "13\n",
      "15\n",
      "17\n",
      "19\n"
     ]
    }
   ],
   "source": [
    "#EAP for odd number less than 21\n",
    "for i in range(1,21):\n",
    "    if i%2 != 0:\n",
    "        print (i)"
   ]
  },
  {
   "cell_type": "code",
   "execution_count": 19,
   "metadata": {},
   "outputs": [
    {
     "name": "stdout",
     "output_type": "stream",
     "text": [
      "enter the value of X = af\n",
      "af\n",
      "enter the value of X = fd\n",
      "enter the value of X = Adghgf\n",
      "Adghgf\n",
      "enter the value of X = gsfdg\n",
      "enter the value of X = fwgeyu\n"
     ]
    }
   ],
   "source": [
    "#check the alphabet value\n",
    "for i in range(5):\n",
    "    x= input(\"enter the value of X = \")\n",
    "    if x[0] == \"A\":\n",
    "        print(x)\n",
    "    elif x[0] == \"a\":\n",
    "        print(x)"
   ]
  },
  {
   "cell_type": "code",
   "execution_count": 17,
   "metadata": {},
   "outputs": [
    {
     "name": "stdout",
     "output_type": "stream",
     "text": [
      "p hello world\n",
      "y hello world\n",
      "t hello world\n",
      "h hello world\n",
      "o hello world\n",
      "n hello world\n"
     ]
    }
   ],
   "source": [
    "a= \"python\"\n",
    "for i in a:\n",
    "    print(i,\"hello world\")"
   ]
  },
  {
   "cell_type": "code",
   "execution_count": 18,
   "metadata": {},
   "outputs": [
    {
     "name": "stdout",
     "output_type": "stream",
     "text": [
      "Helloworld"
     ]
    }
   ],
   "source": [
    "a=\"Hello world\"\n",
    "for i in a:\n",
    "    if i != \" \":\n",
    "        print(i, end = \"\")"
   ]
  },
  {
   "cell_type": "code",
   "execution_count": 24,
   "metadata": {},
   "outputs": [
    {
     "name": "stdout",
     "output_type": "stream",
     "text": [
      "Hello"
     ]
    }
   ],
   "source": [
    "a=\"Hello world\"\n",
    "for i in a:\n",
    "    if i == \" \":\n",
    "        break\n",
    "    else:\n",
    "        print(i, end = \"\")"
   ]
  },
  {
   "cell_type": "code",
   "execution_count": 25,
   "metadata": {},
   "outputs": [
    {
     "name": "stdout",
     "output_type": "stream",
     "text": [
      "Helloworld"
     ]
    }
   ],
   "source": [
    "a=\"Hello world\"\n",
    "for i in a:\n",
    "    if i == \" \":\n",
    "        continue\n",
    "    else:\n",
    "        print(i, end = \"\")"
   ]
  },
  {
   "cell_type": "code",
   "execution_count": 2,
   "metadata": {},
   "outputs": [
    {
     "name": "stdout",
     "output_type": "stream",
     "text": [
      "0 Hello world\n",
      "1 Hello world\n",
      "2 Hello world\n",
      "3 Hello world\n",
      "4 Hello world\n",
      "5 Hello world\n"
     ]
    }
   ],
   "source": [
    "#while Loop\n",
    "a=0\n",
    "while a<=5:\n",
    "    print(a,\"Hello world\")\n",
    "    a=a+1 #a+=1"
   ]
  },
  {
   "cell_type": "code",
   "execution_count": 4,
   "metadata": {},
   "outputs": [
    {
     "name": "stdout",
     "output_type": "stream",
     "text": [
      "enter n = 5\n",
      "5 * 1 = 5\n",
      "5 * 2 = 10\n",
      "5 * 3 = 15\n",
      "5 * 4 = 20\n",
      "5 * 5 = 25\n",
      "5 * 6 = 30\n",
      "5 * 7 = 35\n",
      "5 * 8 = 40\n",
      "5 * 9 = 45\n",
      "5 * 10 = 50\n"
     ]
    }
   ],
   "source": [
    "n=int(input(\"enter n = \"))\n",
    "a=1\n",
    "while a<=10:\n",
    "    print(n,\"*\",a,\"=\",n*a)\n",
    "    a= a+1\n",
    "    "
   ]
  },
  {
   "cell_type": "code",
   "execution_count": 8,
   "metadata": {},
   "outputs": [
    {
     "name": "stdout",
     "output_type": "stream",
     "text": [
      "enter row = 2\n",
      "enter your name = hjgfk\n",
      "enter your phone = 15643\n",
      "enter your name = vfhsdgj\n",
      "enter your phone = 1564\n",
      "hjgfk --- 15643\n",
      "vfhsdgj --- 1564\n",
      "\n"
     ]
    }
   ],
   "source": [
    "a= 1\n",
    "data= \"\"\n",
    "n= int(input(\"enter row = \"))\n",
    "while a<=n:\n",
    "    name = input(\"enter your name = \")\n",
    "    phone = int(input(\"enter your phone = \"))\n",
    "    info = name + \" --- \" + str(phone)\n",
    "    data =data + info + \"\\n\"\n",
    "    a=a+1\n",
    "print(data)"
   ]
  },
  {
   "cell_type": "code",
   "execution_count": 1,
   "metadata": {},
   "outputs": [
    {
     "name": "stdout",
     "output_type": "stream",
     "text": [
      "Hello"
     ]
    }
   ],
   "source": [
    "#while as if statement = condition haru uncertain xa bhane while loop. specila case ma use garxnu parxa \n",
    "# condition haru true hunjel sama while loop use garxau\n",
    "\n",
    "a= \"Hello world\"\n",
    "n= len(a)\n",
    "b=0\n",
    "while b<n:\n",
    "    if a[b] == \" \":\n",
    "    \n",
    "        break\n",
    "    print(a[b],end=\"\")\n",
    "    b= b+1\n",
    "    \n"
   ]
  },
  {
   "cell_type": "code",
   "execution_count": 1,
   "metadata": {},
   "outputs": [
    {
     "name": "stdout",
     "output_type": "stream",
     "text": [
      "Helloworld"
     ]
    }
   ],
   "source": [
    "a= \"Hello world\"\n",
    "n= len(a)\n",
    "b=0\n",
    "while b<n:\n",
    "    if a[b] == \" \":\n",
    "        b=b+1\n",
    "        continue\n",
    "    print(a[b],end=\"\")\n",
    "    b= b+1\n",
    "    "
   ]
  },
  {
   "cell_type": "code",
   "execution_count": 42,
   "metadata": {},
   "outputs": [
    {
     "name": "stdout",
     "output_type": "stream",
     "text": [
      "enter the starting value = 1\n",
      "enter the last value = 21\n",
      "1  are prime number \n",
      "2  are prime number \n",
      "3  are prime number \n",
      "4  are composite number \n",
      "5  are prime number \n",
      "6  are composite number \n",
      "7  are prime number \n",
      "8  are composite number \n",
      "9  are composite number \n",
      "10  are composite number \n",
      "11  are prime number \n",
      "12  are composite number \n",
      "13  are prime number \n",
      "14  are composite number \n",
      "15  are composite number \n",
      "16  are composite number \n",
      "17  are prime number \n",
      "18  are composite number \n",
      "19  are prime number \n",
      "20  are composite number \n",
      "21  are composite number \n"
     ]
    }
   ],
   "source": [
    "#Class work\n",
    "#Prime number and Composite Number\n",
    "#prime number are 1,2,3,5,7,11,13,17,\n",
    "s = int(input(\"enter the starting value = \"))\n",
    "l = int(input(\"enter the last value = \"))\n",
    "for i in range(s, l+1):\n",
    "    if i>0:\n",
    "        for j in range(2, i):\n",
    "            if (i % j) == 0:\n",
    "                print(i, \" are composite number \")\n",
    "                break  \n",
    "        else:\n",
    "            print(i,\" are prime number \")\n",
    "            "
   ]
  },
  {
   "cell_type": "code",
   "execution_count": 50,
   "metadata": {},
   "outputs": [
    {
     "name": "stdout",
     "output_type": "stream",
     "text": [
      "enter the starting value = 1\n",
      "enter the last value = 21\n",
      "Prime Number are:- \n",
      "1,2,3,5,7,11,13,17,19,\n",
      "---------------------------------\n",
      "Composite Number are:- \n",
      "4,6,8,9,10,12,14,15,16,18,20,"
     ]
    }
   ],
   "source": [
    "#next method\n",
    "s = int(input(\"enter the starting value = \"))\n",
    "l = int(input(\"enter the last value = \"))\n",
    "print(\"Prime Number are:- \")\n",
    "for i in range(s, l+1):\n",
    "    \n",
    "    if i>0:\n",
    "        for j in range(2, i):\n",
    "            if (i % j) == 0:\n",
    "                break  \n",
    "        else:\n",
    "            print(i,end=\",\")\n",
    "            \n",
    "print(\"\\n\"+\"---------------------------------\")\n",
    "print(\"Composite Number are:- \")          \n",
    "for i in range(s,l):\n",
    "    \n",
    "    if i>0:\n",
    "        for j in range(2, i):\n",
    "            if(i%j)==0:\n",
    "                print(i, end =\",\")\n",
    "                break\n",
    "            "
   ]
  },
  {
   "cell_type": "code",
   "execution_count": 2,
   "metadata": {},
   "outputs": [
    {
     "name": "stdout",
     "output_type": "stream",
     "text": [
      "hello world\n"
     ]
    }
   ],
   "source": [
    "#function]\n",
    "# def <function>: defining function \n",
    "#     <operations>\n",
    "#<function() calling function\n",
    "#eg:\n",
    "def hello():\n",
    "    print(\"hello world\")\n",
    "    \n",
    "hello()\n",
    "\n",
    "#types of function\n",
    "# (i) function with no argument and no return type\n",
    "# (ii) function with argument and no return type\n",
    "# (iii) function with no argument and return type\n",
    "# (iv) function with argument and return type\n"
   ]
  },
  {
   "cell_type": "code",
   "execution_count": 3,
   "metadata": {},
   "outputs": [
    {
     "name": "stdout",
     "output_type": "stream",
     "text": [
      "enter the number to run program 1\n",
      "Enter the value of p 454\n",
      "Enter the value of t 4\n",
      "Enter the value of r 45\n",
      "the simple intrest value =  817.2\n"
     ]
    }
   ],
   "source": [
    "# (i) function with no argument and no return type\n",
    "def cal():\n",
    "    p=float(input(\"Enter the value of p \")) #local variables\n",
    "    t=float(input(\"Enter the value of t \"))\n",
    "    r= float(input(\"Enter the value of r \"))\n",
    "    i=(p*t*r)/100\n",
    "    print(\"the simple intrest value = \",i)\n",
    "n=int(input(\"enter the number to run program \"))\n",
    "for i in range(n):\n",
    "    cal()"
   ]
  },
  {
   "cell_type": "code",
   "execution_count": 4,
   "metadata": {},
   "outputs": [
    {
     "name": "stdout",
     "output_type": "stream",
     "text": [
      "Enter the value of p 5445\n",
      "Enter the value of t 1\n",
      "Enter the value of r 455\n",
      "enter the number to run program 1\n",
      "the simple intrest value =  24774.75\n"
     ]
    }
   ],
   "source": [
    "n=int(input(\"enter the number to run program \"))\n",
    "p=float(input(\"Enter the value of p \")) #Global variables\n",
    "t=float(input(\"Enter the value of t \"))\n",
    "r= float(input(\"Enter the value of r \"))\n",
    "def cal():\n",
    "    i=(p*t*r)/100\n",
    "    print(\"the simple intrest value = \",i)\n",
    "for i in range(n):\n",
    "    cal()"
   ]
  },
  {
   "cell_type": "code",
   "execution_count": 6,
   "metadata": {},
   "outputs": [
    {
     "name": "stdout",
     "output_type": "stream",
     "text": [
      "Hello World\n",
      "enter the number to run program 1\n",
      "Enter the value of p 7\n",
      "Enter the value of t 1\n",
      "Enter the value of r 2\n",
      "the simple intrest value =  0.14\n"
     ]
    }
   ],
   "source": [
    "# (ii) function with argument and no return type\n",
    "def hello(x):\n",
    "    print(x)\n",
    "hello(\"Hello World\")\n",
    "\n",
    "def cal(x,y,z):\n",
    "    global i \n",
    "    i=(x*y*z)/100 #value of v is global\n",
    "    print(\"the simple intrest value = \",i)\n",
    "    \n",
    "n=int(input(\"enter the number to run program \"))\n",
    "p=float(input(\"Enter the value of p \")) #Global variables\n",
    "t=float(input(\"Enter the value of t \"))\n",
    "r= float(input(\"Enter the value of r \"))\n",
    "for i in range(n):\n",
    "    cal(p,t,r)"
   ]
  },
  {
   "cell_type": "code",
   "execution_count": 7,
   "metadata": {},
   "outputs": [
    {
     "name": "stdout",
     "output_type": "stream",
     "text": [
      "20\n"
     ]
    }
   ],
   "source": [
    "# (iii) function with no argument and return type\n",
    "def cal(x=5,y=4):\n",
    "    z=x*y\n",
    "    print(z)\n",
    "    \n",
    "cal()"
   ]
  },
  {
   "cell_type": "code",
   "execution_count": 9,
   "metadata": {},
   "outputs": [
    {
     "name": "stdout",
     "output_type": "stream",
     "text": [
      "6\n"
     ]
    }
   ],
   "source": [
    "def cal(x=5,y=b):\n",
    "    z=x*y\n",
    "    print(z)\n",
    "l=2\n",
    "b=3\n",
    "cal(l)"
   ]
  },
  {
   "cell_type": "code",
   "execution_count": 12,
   "metadata": {},
   "outputs": [
    {
     "name": "stdout",
     "output_type": "stream",
     "text": [
      "enter name = ghf\n",
      "enter age12\n",
      "Enter addresscg\n",
      "ghf12cg\n"
     ]
    }
   ],
   "source": [
    "def info(c):\n",
    "    x,y,z = c\n",
    "    a= x + str(y) + z\n",
    "    print(a)\n",
    "name = input(\"enter name = \")\n",
    "age = int(input(\"enter age\"))\n",
    "add = input(\"Enter address\")\n",
    "b = [name, age, add]\n",
    "info(b)"
   ]
  },
  {
   "cell_type": "code",
   "execution_count": 19,
   "metadata": {},
   "outputs": [
    {
     "name": "stdout",
     "output_type": "stream",
     "text": [
      "Area =  6\n",
      "Volume =  12\n"
     ]
    }
   ],
   "source": [
    "def cal():\n",
    "    l=2\n",
    "    b=3\n",
    "    a=l*b\n",
    "    return a\n",
    "area = cal()\n",
    "print(\"Area = \",area)\n",
    "h=2\n",
    "v=area*h\n",
    "print(\"Volume = \",v)"
   ]
  },
  {
   "cell_type": "code",
   "execution_count": 21,
   "metadata": {},
   "outputs": [
    {
     "name": "stdout",
     "output_type": "stream",
     "text": [
      "Area =  6\n",
      "Volume =  18\n"
     ]
    }
   ],
   "source": [
    "def cal():\n",
    "    l=2\n",
    "    b=3\n",
    "    a=l*b\n",
    "    return a\n",
    "\n",
    "def vol():\n",
    "    h=3\n",
    "    v=cal()*h\n",
    "    return v\n",
    "\n",
    "print(\"Area = \",cal())\n",
    "print(\"Volume = \",vol())"
   ]
  },
  {
   "cell_type": "code",
   "execution_count": null,
   "metadata": {},
   "outputs": [],
   "source": [
    "#function with argument and return type\n",
    "a= int(intput(\"Enter the value of a = \"))\n",
    "b = int(intput(\"Enter the value of b = \"))\n",
    "o = intput(\"Enter the value of 0 = \")\n",
    "if 0 == \"+\""
   ]
  },
  {
   "cell_type": "code",
   "execution_count": null,
   "metadata": {},
   "outputs": [],
   "source": [
    "#recursive \n",
    "def total(b,c):\n",
    "    return b+c\n",
    "def all_totals(x,y):\n",
    "    return x + y\n",
    "def bill():\n",
    "    return name + \" \" +str(price)+\" \"+ str(quantity)+ \" \" +str(total)\n",
    "def cal():\n",
    "    all_total = 0\n",
    "    net_bill = \"\"\n",
    "    name = input(\"Enter name = \")\n",
    "    price = int(input(\"Enter price = \"))\n",
    "    quantity = int(input(\"Enter quantity\"))\n",
    "    z = input(\"enter the value of z ,t for total = \")\n",
    "    if z == \"t\":\n",
    "        print(total(price,quantity))\n",
    "    \n",
    "    elif z == \"a\":\n",
    "        print(all_totals(all_total,total(price,quantity)))\n",
    "#     elif z == \"b\":\n",
    "#         print(bill(name,str(price),str(quantity),str(total()))\n",
    "\n",
    "#     bill = name + \" \" +str(price)+\" \"+ str(quantity)+ \" \" +str(total)\n",
    "    \n",
    "#     net_bill = net_bill+bill+\"\\n\"\n",
    "    x= input(\"enter the value of x where y = yes = \")\n",
    "    if x == \"y\":\n",
    "        cal()\n",
    "cal()"
   ]
  },
  {
   "cell_type": "code",
   "execution_count": 4,
   "metadata": {},
   "outputs": [
    {
     "name": "stdout",
     "output_type": "stream",
     "text": [
      "Enter name = asdfg\n",
      "Enter price = 154\n",
      "Enter quantity1\n",
      "enter the value of z ,t for total = n\n"
     ]
    },
    {
     "ename": "TypeError",
     "evalue": "bill() takes 1 positional argument but 5 were given",
     "output_type": "error",
     "traceback": [
      "\u001b[1;31m---------------------------------------------------------------------------\u001b[0m",
      "\u001b[1;31mTypeError\u001b[0m                                 Traceback (most recent call last)",
      "\u001b[1;32m<ipython-input-4-0944a7f913bc>\u001b[0m in \u001b[0;36m<module>\u001b[1;34m\u001b[0m\n\u001b[0;32m     33\u001b[0m     \u001b[1;32mif\u001b[0m \u001b[0mx\u001b[0m \u001b[1;33m==\u001b[0m \u001b[1;34m\"y\"\u001b[0m\u001b[1;33m:\u001b[0m\u001b[1;33m\u001b[0m\u001b[1;33m\u001b[0m\u001b[0m\n\u001b[0;32m     34\u001b[0m         \u001b[0mcal\u001b[0m\u001b[1;33m(\u001b[0m\u001b[1;33m)\u001b[0m\u001b[1;33m\u001b[0m\u001b[1;33m\u001b[0m\u001b[0m\n\u001b[1;32m---> 35\u001b[1;33m \u001b[0mcal\u001b[0m\u001b[1;33m(\u001b[0m\u001b[1;33m)\u001b[0m\u001b[1;33m\u001b[0m\u001b[1;33m\u001b[0m\u001b[0m\n\u001b[0m",
      "\u001b[1;32m<ipython-input-4-0944a7f913bc>\u001b[0m in \u001b[0;36mcal\u001b[1;34m()\u001b[0m\n\u001b[0;32m     27\u001b[0m \u001b[1;33m\u001b[0m\u001b[0m\n\u001b[0;32m     28\u001b[0m     \u001b[1;32mif\u001b[0m \u001b[0mz\u001b[0m\u001b[1;33m==\u001b[0m \u001b[1;34m\"n\"\u001b[0m\u001b[1;33m:\u001b[0m\u001b[1;33m\u001b[0m\u001b[1;33m\u001b[0m\u001b[0m\n\u001b[1;32m---> 29\u001b[1;33m         \u001b[0mnet_bill\u001b[0m \u001b[1;33m=\u001b[0m \u001b[0mnet_bill\u001b[0m\u001b[1;33m+\u001b[0m\u001b[0mbill\u001b[0m\u001b[1;33m(\u001b[0m\u001b[1;34m\"Name:- \"\u001b[0m\u001b[1;33m,\u001b[0m\u001b[0mname\u001b[0m\u001b[1;33m,\u001b[0m\u001b[1;34m\" | Price:- \"\u001b[0m\u001b[1;33m+\u001b[0m\u001b[0mstr\u001b[0m\u001b[1;33m(\u001b[0m\u001b[0mprice\u001b[0m\u001b[1;33m)\u001b[0m\u001b[1;33m,\u001b[0m\u001b[1;34m\" | Quantity:- \"\u001b[0m\u001b[1;33m+\u001b[0m\u001b[0mstr\u001b[0m\u001b[1;33m(\u001b[0m\u001b[0mquantity\u001b[0m\u001b[1;33m)\u001b[0m\u001b[1;33m,\u001b[0m\u001b[1;34m\" | Total:- \"\u001b[0m\u001b[1;33m+\u001b[0m\u001b[0mstr\u001b[0m\u001b[1;33m(\u001b[0m\u001b[0mtotal\u001b[0m\u001b[1;33m(\u001b[0m\u001b[0mprice\u001b[0m\u001b[1;33m,\u001b[0m\u001b[0mquantity\u001b[0m\u001b[1;33m)\u001b[0m\u001b[1;33m)\u001b[0m\u001b[1;33m)\u001b[0m\u001b[1;33m+\u001b[0m\u001b[1;34m\"\\n\"\u001b[0m\u001b[1;33m\u001b[0m\u001b[1;33m\u001b[0m\u001b[0m\n\u001b[0m\u001b[0;32m     30\u001b[0m         \u001b[0mprint\u001b[0m\u001b[1;33m(\u001b[0m\u001b[0mnetbil\u001b[0m\u001b[1;33m(\u001b[0m\u001b[0mnet_bill\u001b[0m\u001b[1;33m)\u001b[0m\u001b[1;33m)\u001b[0m\u001b[1;33m\u001b[0m\u001b[1;33m\u001b[0m\u001b[0m\n\u001b[0;32m     31\u001b[0m \u001b[1;31m#this is for\u001b[0m\u001b[1;33m\u001b[0m\u001b[1;33m\u001b[0m\u001b[1;33m\u001b[0m\u001b[0m\n",
      "\u001b[1;31mTypeError\u001b[0m: bill() takes 1 positional argument but 5 were given"
     ]
    }
   ],
   "source": [
    "#recursive \n",
    "def total(b,c):\n",
    "    return b*c\n",
    "def all_totals(m,y):\n",
    "    return m + y\n",
    "def bill(p):\n",
    "#     p = name +b+ c+y\n",
    "    return p\n",
    "def netbil():\n",
    "    return netbill + bill()\n",
    "\n",
    "def cal():\n",
    "    all_total = 0\n",
    "   \n",
    "    name = input(\"Enter name = \")\n",
    "    price = int(input(\"Enter price = \"))\n",
    "    quantity = int(input(\"Enter quantity\"))\n",
    "    z = input(\"enter the value of z ,t for total = \")\n",
    "    if z == \"t\":\n",
    "        print(total(price,quantity))\n",
    "    if z == \"a\":\n",
    "        print(all_totals(all_total,total(price,quantity)))    \n",
    "    if z == \"b\":\n",
    "        bil= (\"Name:- \",name,\" | Price:- \"+str(price),\" | Quantity:- \"+str(quantity),\" | Total:- \"+str(total(price,quantity)))\n",
    "        print(bill(bil))\n",
    "               \n",
    "    if z== \"n\":\n",
    "#          net_bill = net_bill+bill+\"\\n\"\n",
    "        print(netbil)\n",
    "#this is for               \n",
    "    x = input(\"enter y for yes and other for no = \")\n",
    "    if x == \"y\":\n",
    "        cal()\n",
    "cal()"
   ]
  },
  {
   "cell_type": "code",
   "execution_count": 1,
   "metadata": {},
   "outputs": [
    {
     "name": "stdout",
     "output_type": "stream",
     "text": [
      "Enter how many products = 2\n",
      "Enter name = asdfg\n",
      "Enter price = 2145\n",
      "Enter quantity1\n",
      "Enter name = asdfgh\n",
      "Enter price = 214\n",
      "Enter quantity12\n",
      "My net bill is = \n",
      " asdfg 2145 1 2145\n",
      "asdfgh 214 12 2568\n",
      "\n",
      "My all total =  4713\n"
     ]
    }
   ],
   "source": [
    "all_total = 0\n",
    "net_bill = \"\"\n",
    "n = int(input(\"Enter how many products = \"))\n",
    "for i in range(n):\n",
    "    name = input(\"Enter name = \")\n",
    "    price = int(input(\"Enter price = \"))\n",
    "    quantity = int(input(\"Enter quantity\"))\n",
    "    total = price*quantity\n",
    "    all_total = all_total+total\n",
    "    \n",
    "    bill = name + \" \" +str(price)+\" \"+ str(quantity)+ \" \" +str(total)\n",
    "    \n",
    "    net_bill = net_bill+bill+\"\\n\"\n",
    "print(\"My net bill is = \\n\",net_bill)\n",
    "print(\"My all total = \",all_total)"
   ]
  },
  {
   "cell_type": "code",
   "execution_count": 5,
   "metadata": {},
   "outputs": [
    {
     "name": "stdout",
     "output_type": "stream",
     "text": [
      "enter your name = fsg\n",
      "enter your age = 21\n",
      "enter your add = fegd\n",
      "my name is fsg. i am 21. i am from fegd. \n",
      "\n"
     ]
    }
   ],
   "source": [
    "#String formatting\n",
    "name =input(\"enter your name = \")\n",
    "age = int(input(\"enter your age = \"))\n",
    "add = input(\"enter your add = \")\n",
    "info = f\"my name is {name}. i am {age}. i am from {add}. \\n\"\n",
    "print(info)\n"
   ]
  },
  {
   "cell_type": "code",
   "execution_count": 6,
   "metadata": {},
   "outputs": [
    {
     "name": "stdout",
     "output_type": "stream",
     "text": [
      "yes\n",
      "1\n"
     ]
    }
   ],
   "source": [
    "#search\n",
    "a= \"hello world i am python\"\n",
    "if \"python\" in a:\n",
    "    print(\"yes\")\n",
    "else:\n",
    "    print(\"no\")\n",
    "    \n",
    "print(a.count(\"python\"))"
   ]
  },
  {
   "cell_type": "code",
   "execution_count": 8,
   "metadata": {},
   "outputs": [
    {
     "name": "stdout",
     "output_type": "stream",
     "text": [
      "Enter any value for search python\n",
      "yes\n",
      "No of search(python) value is  1\n"
     ]
    }
   ],
   "source": [
    "a= \"hello world i am python\"\n",
    "search= input(\"Enter any value for search \")\n",
    "if search in a:\n",
    "    print(\"yes\")\n",
    "else:\n",
    "    print(\"no\")\n",
    "    \n",
    "print(f\"No of search({search}) value is \",a.count(search))"
   ]
  },
  {
   "cell_type": "code",
   "execution_count": 9,
   "metadata": {},
   "outputs": [
    {
     "name": "stdout",
     "output_type": "stream",
     "text": [
      "HELLO WORLD I AM PYTHON\n",
      "hello world i am python\n"
     ]
    }
   ],
   "source": [
    "print(a.upper())\n",
    "print(a.lower())"
   ]
  },
  {
   "cell_type": "code",
   "execution_count": 11,
   "metadata": {},
   "outputs": [
    {
     "name": "stdout",
     "output_type": "stream",
     "text": [
      "Enter any value for search PYTHON\n",
      "yes\n",
      "No of search(PYTHON) value is  1\n"
     ]
    }
   ],
   "source": [
    "a= \"hello world i am python\"\n",
    "search= input(\"Enter any value for search \")\n",
    "search_lower = search.lower()\n",
    "a_lower= a.lower()\n",
    "if search_lower in a_lower:\n",
    "    print(\"yes\")\n",
    "else:\n",
    "    print(\"no\")\n",
    "    \n",
    "print(f\"No of search({search}) value is \",a_lower.count(search_lower))"
   ]
  },
  {
   "cell_type": "code",
   "execution_count": 12,
   "metadata": {},
   "outputs": [
    {
     "name": "stdout",
     "output_type": "stream",
     "text": [
      "Enter the value for search python\n",
      "Enter the value for replace PYTHON\n",
      "hello world i am PYTHON. \n"
     ]
    }
   ],
   "source": [
    "#replace\n",
    "a= \"hello world i am python. \"\n",
    "search = input(\"Enter the value for search \")\n",
    "replace = input(\"Enter the value for replace \")\n",
    "b=a.replace(search,replace)\n",
    "print(b)"
   ]
  },
  {
   "cell_type": "code",
   "execution_count": 15,
   "metadata": {},
   "outputs": [
    {
     "name": "stdout",
     "output_type": "stream",
     "text": [
      "['apple ', ' ball']\n"
     ]
    }
   ],
   "source": [
    "a= \"apple , ball\"\n",
    "b=a.split(\",\")\n",
    "print(b)"
   ]
  },
  {
   "cell_type": "code",
   "execution_count": 16,
   "metadata": {},
   "outputs": [
    {
     "data": {
      "text/plain": [
       "'apple '"
      ]
     },
     "execution_count": 16,
     "metadata": {},
     "output_type": "execute_result"
    }
   ],
   "source": [
    "b[0]"
   ]
  },
  {
   "cell_type": "code",
   "execution_count": 17,
   "metadata": {},
   "outputs": [],
   "source": [
    "#Python Collections\n",
    "#list \n",
    "# Tuples\n",
    "# Dictionary\n",
    "# Set\n"
   ]
  },
  {
   "cell_type": "code",
   "execution_count": 18,
   "metadata": {},
   "outputs": [
    {
     "name": "stdout",
     "output_type": "stream",
     "text": [
      "['Apple', 'Ball', 'Cat']\n",
      "[1, 2, 3, 4, 5, 6]\n"
     ]
    }
   ],
   "source": [
    "# List\n",
    "# -indexed\n",
    "# -ordered\n",
    "# -duplicate members\n",
    "# -mutable\n",
    "\n",
    "a= [\"Apple\", \"Ball\", \"Cat\"]\n",
    "b=[1,2,3,4,5,6]\n",
    "print(a)\n",
    "print(b)"
   ]
  },
  {
   "cell_type": "code",
   "execution_count": 19,
   "metadata": {},
   "outputs": [
    {
     "data": {
      "text/plain": [
       "list"
      ]
     },
     "execution_count": 19,
     "metadata": {},
     "output_type": "execute_result"
    }
   ],
   "source": [
    "type(a)"
   ]
  },
  {
   "cell_type": "code",
   "execution_count": 20,
   "metadata": {},
   "outputs": [
    {
     "data": {
      "text/plain": [
       "3"
      ]
     },
     "execution_count": 20,
     "metadata": {},
     "output_type": "execute_result"
    }
   ],
   "source": [
    "len(a)"
   ]
  },
  {
   "cell_type": "code",
   "execution_count": 21,
   "metadata": {},
   "outputs": [
    {
     "data": {
      "text/plain": [
       "6"
      ]
     },
     "execution_count": 21,
     "metadata": {},
     "output_type": "execute_result"
    }
   ],
   "source": [
    "len(b)"
   ]
  },
  {
   "cell_type": "code",
   "execution_count": 22,
   "metadata": {},
   "outputs": [
    {
     "data": {
      "text/plain": [
       "[1, 2, 3, 1, 2, 3, 1, 2, 3]"
      ]
     },
     "execution_count": 22,
     "metadata": {},
     "output_type": "execute_result"
    }
   ],
   "source": [
    "a= [1,2,3] #list is used for data collection its value can not be multiply\n",
    "a*3  #for multiply numpy is used (list * 3)\n"
   ]
  },
  {
   "cell_type": "code",
   "execution_count": 25,
   "metadata": {},
   "outputs": [
    {
     "name": "stdout",
     "output_type": "stream",
     "text": [
      "['apple']\n",
      "['apple']\n",
      "[1, 2]\n"
     ]
    }
   ],
   "source": [
    "#list ma string can not be add \n",
    "#ex:-\n",
    "# a=[]\n",
    "# b=\"ram\"\n",
    "#a.sort() mutable value \n",
    "#mutabe action can't be print\n",
    "#eg print(a.sort()) error \n",
    "#sort ascending order\n",
    "#reverse descending order\n",
    "#concat\n",
    "a=[]\n",
    "b=[\"apple\"]\n",
    "c=a+b\n",
    "print(c)\n",
    "\n",
    "#append\n",
    "a=[]\n",
    "b=\"apple\"\n",
    "a.append(b)\n",
    "print(a)\n",
    "\n",
    "a=[1]\n",
    "a.append(2)\n",
    "print(a)\n"
   ]
  },
  {
   "cell_type": "code",
   "execution_count": 3,
   "metadata": {},
   "outputs": [
    {
     "name": "stdout",
     "output_type": "stream",
     "text": [
      "['apple', 'ball', 'cat', 'dog', 'fish']\n",
      "enter any value for search = aPPle\n",
      "Yes\n"
     ]
    }
   ],
   "source": [
    "b=[]\n",
    "a=[\"Apple\",\"Ball\",\"Cat\",\"Dog\",\"Fish\"]\n",
    "for i in a:\n",
    "    x= i.lower()\n",
    "    b.append(x)\n",
    "print(b)\n",
    "n= input(\"enter any value for search = \")\n",
    "if n.lower() in b:\n",
    "    print(\"Yes\")"
   ]
  },
  {
   "cell_type": "code",
   "execution_count": 4,
   "metadata": {},
   "outputs": [
    {
     "name": "stdout",
     "output_type": "stream",
     "text": [
      "0\n",
      "2\n"
     ]
    }
   ],
   "source": [
    "a=[\"Apple\", \"Ball\", \"Apple\"]\n",
    "n=len(a)\n",
    "for i in range(n):\n",
    "    if a[i] == \"Apple\":\n",
    "        print(i)"
   ]
  },
  {
   "cell_type": "code",
   "execution_count": 7,
   "metadata": {},
   "outputs": [
    {
     "name": "stdout",
     "output_type": "stream",
     "text": [
      "[0, 2] Apple\n"
     ]
    }
   ],
   "source": [
    "z=[]\n",
    "a=[\"Apple\", \"Ball\", \"Apple\"]\n",
    "n=len(a)\n",
    "for i in range(n):\n",
    "    if a[i] == \"Apple\":\n",
    "        z.append(i)\n",
    "print(z,a[i])"
   ]
  },
  {
   "cell_type": "code",
   "execution_count": 8,
   "metadata": {},
   "outputs": [
    {
     "name": "stdout",
     "output_type": "stream",
     "text": [
      "['Ant', 'Ball', 'Apple']\n"
     ]
    }
   ],
   "source": [
    "#update\n",
    "a=[\"Apple\", \"Ball\", \"Apple\"]\n",
    "a[0] = \"Ant\"\n",
    "print(a)"
   ]
  },
  {
   "cell_type": "code",
   "execution_count": 12,
   "metadata": {},
   "outputs": [
    {
     "name": "stdout",
     "output_type": "stream",
     "text": [
      "['Ant', 'Ball', 'Ant']\n"
     ]
    }
   ],
   "source": [
    "a=[\"Apple\", \"Ball\", \"Apple\"]\n",
    "n=len(a)\n",
    "for i in range(n):\n",
    "    if a[i] == \"Apple\":\n",
    "        a[i] = \"Ant\"\n",
    "print(a)"
   ]
  },
  {
   "cell_type": "code",
   "execution_count": 14,
   "metadata": {},
   "outputs": [
    {
     "name": "stdout",
     "output_type": "stream",
     "text": [
      "['Apple']\n"
     ]
    }
   ],
   "source": [
    "#delete\n",
    "a=[\"Apple\", \"Ball\", \"Apple\"]\n",
    "del a[0:2]\n",
    "print(a)"
   ]
  },
  {
   "cell_type": "code",
   "execution_count": 15,
   "metadata": {},
   "outputs": [
    {
     "name": "stdout",
     "output_type": "stream",
     "text": [
      "['Apple', 'Apple']\n"
     ]
    }
   ],
   "source": [
    "a=[\"Apple\", \"Ball\", \"Apple\"]\n",
    "a.remove(\"Ball\")\n",
    "print(a)"
   ]
  },
  {
   "cell_type": "code",
   "execution_count": 23,
   "metadata": {},
   "outputs": [
    {
     "name": "stdout",
     "output_type": "stream",
     "text": [
      "['Ball', 'Cat', 'Dog']\n"
     ]
    }
   ],
   "source": [
    "b= []\n",
    "a=[\"Apple\", \"Ball\", \"Apple\",\"Cat\",\"Dog\"]\n",
    "n=len(a)\n",
    "for i in range(n):\n",
    "    if a[i] == \"Apple\":\n",
    "        continue\n",
    "    b.append(a[i])\n",
    "print(b)"
   ]
  },
  {
   "cell_type": "code",
   "execution_count": 24,
   "metadata": {},
   "outputs": [
    {
     "name": "stdout",
     "output_type": "stream",
     "text": [
      "['Apple', 'Ball', 'Cat', 'Dog']\n",
      "Apple\n"
     ]
    }
   ],
   "source": [
    "#pop() same as delete \n",
    "a=[\"Apple\", \"Ball\", \"Apple\",\"Cat\",\"Dog\"]\n",
    "b=a.pop(2)\n",
    "print(a)\n",
    "print(b)\n",
    "\n"
   ]
  },
  {
   "cell_type": "code",
   "execution_count": 25,
   "metadata": {},
   "outputs": [
    {
     "data": {
      "text/plain": [
       "[1, 2]"
      ]
     },
     "execution_count": 25,
     "metadata": {},
     "output_type": "execute_result"
    }
   ],
   "source": [
    "#two dimensional list\n",
    "a = [[1,2],[2,3],[3,4]]\n",
    "a[0]"
   ]
  },
  {
   "cell_type": "code",
   "execution_count": 26,
   "metadata": {},
   "outputs": [
    {
     "data": {
      "text/plain": [
       "2"
      ]
     },
     "execution_count": 26,
     "metadata": {},
     "output_type": "execute_result"
    }
   ],
   "source": [
    "a[0][1]"
   ]
  },
  {
   "cell_type": "code",
   "execution_count": null,
   "metadata": {},
   "outputs": [],
   "source": [
    "#list lai append garyau bhane list inside list banxa\n",
    "#billing system total net total search update remove and so on"
   ]
  }
 ],
 "metadata": {
  "kernelspec": {
   "display_name": "Python 3",
   "language": "python",
   "name": "python3"
  },
  "language_info": {
   "codemirror_mode": {
    "name": "ipython",
    "version": 3
   },
   "file_extension": ".py",
   "mimetype": "text/x-python",
   "name": "python",
   "nbconvert_exporter": "python",
   "pygments_lexer": "ipython3",
   "version": "3.7.4"
  }
 },
 "nbformat": 4,
 "nbformat_minor": 2
}
