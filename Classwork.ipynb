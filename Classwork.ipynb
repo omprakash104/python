{
 "cells": [
  {
   "cell_type": "code",
   "execution_count": null,
   "metadata": {},
   "outputs": [],
   "source": []
  },
  {
   "cell_type": "code",
   "execution_count": null,
   "metadata": {},
   "outputs": [],
   "source": []
  },
  {
   "cell_type": "code",
   "execution_count": 2,
   "metadata": {},
   "outputs": [
    {
     "data": {
      "text/plain": [
       "'hello world'"
      ]
     },
     "execution_count": 2,
     "metadata": {},
     "output_type": "execute_result"
    }
   ],
   "source": [
    "#array range \n",
    "a= \"hello world\"\n",
    "a[0:100]"
   ]
  },
  {
   "cell_type": "code",
   "execution_count": 4,
   "metadata": {},
   "outputs": [
    {
     "data": {
      "text/plain": [
       "'dlrow ol'"
      ]
     },
     "execution_count": 4,
     "metadata": {},
     "output_type": "execute_result"
    }
   ],
   "source": [
    "#reverce range\n",
    "a=\"hello world\"\n",
    "a[10:2:-1]"
   ]
  },
  {
   "cell_type": "code",
   "execution_count": 1,
   "metadata": {},
   "outputs": [],
   "source": [
    "#lopping"
   ]
  },
  {
   "cell_type": "code",
   "execution_count": null,
   "metadata": {},
   "outputs": [],
   "source": [
    "#if else statement\n",
    "a=5\n",
    "b=10\n",
    "c=23\n",
    "if b>a & b>c:\n",
    "    "
   ]
  },
  {
   "cell_type": "markdown",
   "metadata": {},
   "source": [
    "\n"
   ]
  },
  {
   "cell_type": "code",
   "execution_count": null,
   "metadata": {},
   "outputs": [],
   "source": [
    "#calculator\n",
    "a= int(input(\"enter the value of first number = \"))\n",
    "b= int(input(\"enter the value of second number = \"))\n",
    "o= input(\"enter the operator like + - * / = \")\n",
    "if o == '+':\n",
    "    print(a+b)\n",
    "elif o == '-':\n",
    "    print(a-b)\n",
    "elif o == '*':\n",
    "    print(a*b)\n",
    "elif o =='/' and b != 0:\n",
    "    print(a/b)\n",
    "elif b == 0:\n",
    "    print('value of b can not be zero')\n",
    "else:\n",
    "    print(\"invalid operator\")"
   ]
  },
  {
   "cell_type": "code",
   "execution_count": null,
   "metadata": {},
   "outputs": [],
   "source": [
    "#nesting loop\n",
    "if o == '+':\n",
    "    print(a+b)\n",
    "elif o == '-':\n",
    "    print(a-b)\n",
    "elif o == '*':\n",
    "    print(a*b)\n",
    "elif o =='/' \n",
    "    if b == 0:\n",
    "        print('value of b can not be zero')\n",
    "    else:\n",
    "        print(a/b)\n",
    "else:\n",
    "    print(\"invalid operator\")\n",
    "    "
   ]
  },
  {
   "cell_type": "code",
   "execution_count": 1,
   "metadata": {},
   "outputs": [
    {
     "name": "stdout",
     "output_type": "stream",
     "text": [
      "0 hello world\n",
      "1 hello world\n",
      "2 hello world\n",
      "3 hello world\n",
      "4 hello world\n"
     ]
    }
   ],
   "source": [
    "#loop\n",
    "#for loop\n",
    "for i in range(5):\n",
    "    print(i,\"hello world\")"
   ]
  },
  {
   "cell_type": "code",
   "execution_count": 2,
   "metadata": {},
   "outputs": [
    {
     "name": "stdout",
     "output_type": "stream",
     "text": [
      "1 hello world\n",
      "2 hello world\n",
      "3 hello world\n",
      "4 hello world\n"
     ]
    }
   ],
   "source": [
    "for i in range(1,5):\n",
    "    print(i,\"hello world\")"
   ]
  },
  {
   "cell_type": "code",
   "execution_count": 3,
   "metadata": {},
   "outputs": [
    {
     "name": "stdout",
     "output_type": "stream",
     "text": [
      "1 hello world\n",
      "3 hello world\n",
      "5 hello world\n",
      "7 hello world\n",
      "9 hello world\n"
     ]
    }
   ],
   "source": [
    "for i in range(1,10,2):\n",
    "    print(i,\"hello world\")"
   ]
  },
  {
   "cell_type": "code",
   "execution_count": 4,
   "metadata": {},
   "outputs": [
    {
     "name": "stdout",
     "output_type": "stream",
     "text": [
      "5\n",
      "10\n",
      "15\n",
      "20\n",
      "25\n",
      "30\n",
      "35\n",
      "40\n",
      "45\n",
      "50\n"
     ]
    }
   ],
   "source": [
    "#creating table of 5\n",
    "x=5\n",
    "for i in range(1,11):\n",
    "    print(i*5,)"
   ]
  },
  {
   "cell_type": "code",
   "execution_count": 5,
   "metadata": {},
   "outputs": [
    {
     "name": "stdout",
     "output_type": "stream",
     "text": [
      "enter the value = 5\n",
      "5 * 1 = 5\n",
      "5 * 2 = 10\n",
      "5 * 3 = 15\n",
      "5 * 4 = 20\n",
      "5 * 5 = 25\n",
      "5 * 6 = 30\n",
      "5 * 7 = 35\n",
      "5 * 8 = 40\n",
      "5 * 9 = 45\n",
      "5 * 10 = 50\n"
     ]
    }
   ],
   "source": [
    "#creating table of user defined value\n",
    "x=int(input('enter the value = '))\n",
    "for i in range(1,11):\n",
    "    print(x,'*',i,'=',i*5,)"
   ]
  },
  {
   "cell_type": "code",
   "execution_count": 9,
   "metadata": {},
   "outputs": [
    {
     "name": "stdout",
     "output_type": "stream",
     "text": [
      "enter n = 4\n",
      "enter x =12\n",
      "enter x =13\n",
      "enter x =15\n",
      "enter x =15\n",
      "the sum is =  55\n"
     ]
    }
   ],
   "source": [
    "#user defined sum and their average\n",
    "s=0\n",
    "n=int(input(\"enter n = \"))\n",
    "for i in range(n):\n",
    "    x = int(input(\"enter x =\"))\n",
    "    s= s+x\n",
    "print(\"the sum is = \",s)\n",
    "print(\"the average is = \",s/2)"
   ]
  },
  {
   "cell_type": "code",
   "execution_count": 10,
   "metadata": {},
   "outputs": [
    {
     "name": "stdout",
     "output_type": "stream",
     "text": [
      "enter the value4\n",
      "24\n"
     ]
    }
   ],
   "source": [
    "#factorial\n",
    "fac=1\n",
    "n= int(input(\"enter the value = \")) #running time \n",
    "for i in range(1,n+1): # n+1 value of i increasing by n times\n",
    "    fac=fac*i\n",
    "print(fac)"
   ]
  },
  {
   "cell_type": "code",
   "execution_count": 11,
   "metadata": {},
   "outputs": [
    {
     "name": "stdout",
     "output_type": "stream",
     "text": [
      "1\n",
      "3\n",
      "5\n",
      "7\n",
      "9\n",
      "11\n",
      "13\n",
      "15\n",
      "17\n",
      "19\n"
     ]
    }
   ],
   "source": [
    "#EAP for odd number less than 21\n",
    "for i in range(1,21):\n",
    "    if i%2 != 0:\n",
    "        print (i)"
   ]
  },
  {
   "cell_type": "code",
   "execution_count": 19,
   "metadata": {},
   "outputs": [
    {
     "name": "stdout",
     "output_type": "stream",
     "text": [
      "enter the value of X = af\n",
      "af\n",
      "enter the value of X = fd\n",
      "enter the value of X = Adghgf\n",
      "Adghgf\n",
      "enter the value of X = gsfdg\n",
      "enter the value of X = fwgeyu\n"
     ]
    }
   ],
   "source": [
    "#check the alphabet value\n",
    "for i in range(5):\n",
    "    x= input(\"enter the value of X = \")\n",
    "    if x[0] == \"A\":\n",
    "        print(x)\n",
    "    elif x[0] == \"a\":\n",
    "        print(x)"
   ]
  },
  {
   "cell_type": "code",
   "execution_count": 17,
   "metadata": {},
   "outputs": [
    {
     "name": "stdout",
     "output_type": "stream",
     "text": [
      "p hello world\n",
      "y hello world\n",
      "t hello world\n",
      "h hello world\n",
      "o hello world\n",
      "n hello world\n"
     ]
    }
   ],
   "source": [
    "a= \"python\"\n",
    "for i in a:\n",
    "    print(i,\"hello world\")"
   ]
  },
  {
   "cell_type": "code",
   "execution_count": 18,
   "metadata": {},
   "outputs": [
    {
     "name": "stdout",
     "output_type": "stream",
     "text": [
      "Helloworld"
     ]
    }
   ],
   "source": [
    "a=\"Hello world\"\n",
    "for i in a:\n",
    "    if i != \" \":\n",
    "        print(i, end = \"\")"
   ]
  },
  {
   "cell_type": "code",
   "execution_count": 24,
   "metadata": {},
   "outputs": [
    {
     "name": "stdout",
     "output_type": "stream",
     "text": [
      "Hello"
     ]
    }
   ],
   "source": [
    "a=\"Hello world\"\n",
    "for i in a:\n",
    "    if i == \" \":\n",
    "        break\n",
    "    else:\n",
    "        print(i, end = \"\")"
   ]
  },
  {
   "cell_type": "code",
   "execution_count": 25,
   "metadata": {},
   "outputs": [
    {
     "name": "stdout",
     "output_type": "stream",
     "text": [
      "Helloworld"
     ]
    }
   ],
   "source": [
    "a=\"Hello world\"\n",
    "for i in a:\n",
    "    if i == \" \":\n",
    "        continue\n",
    "    else:\n",
    "        print(i, end = \"\")"
   ]
  },
  {
   "cell_type": "code",
   "execution_count": 2,
   "metadata": {},
   "outputs": [
    {
     "name": "stdout",
     "output_type": "stream",
     "text": [
      "0 Hello world\n",
      "1 Hello world\n",
      "2 Hello world\n",
      "3 Hello world\n",
      "4 Hello world\n",
      "5 Hello world\n"
     ]
    }
   ],
   "source": [
    "#while Loop\n",
    "a=0\n",
    "while a<=5:\n",
    "    print(a,\"Hello world\")\n",
    "    a=a+1 #a+=1"
   ]
  },
  {
   "cell_type": "code",
   "execution_count": 4,
   "metadata": {},
   "outputs": [
    {
     "name": "stdout",
     "output_type": "stream",
     "text": [
      "enter n = 5\n",
      "5 * 1 = 5\n",
      "5 * 2 = 10\n",
      "5 * 3 = 15\n",
      "5 * 4 = 20\n",
      "5 * 5 = 25\n",
      "5 * 6 = 30\n",
      "5 * 7 = 35\n",
      "5 * 8 = 40\n",
      "5 * 9 = 45\n",
      "5 * 10 = 50\n"
     ]
    }
   ],
   "source": [
    "n=int(input(\"enter n = \"))\n",
    "a=1\n",
    "while a<=10:\n",
    "    print(n,\"*\",a,\"=\",n*a)\n",
    "    a= a+1\n",
    "    "
   ]
  },
  {
   "cell_type": "code",
   "execution_count": 8,
   "metadata": {},
   "outputs": [
    {
     "name": "stdout",
     "output_type": "stream",
     "text": [
      "enter row = 2\n",
      "enter your name = hjgfk\n",
      "enter your phone = 15643\n",
      "enter your name = vfhsdgj\n",
      "enter your phone = 1564\n",
      "hjgfk --- 15643\n",
      "vfhsdgj --- 1564\n",
      "\n"
     ]
    }
   ],
   "source": [
    "a= 1\n",
    "data= \"\"\n",
    "n= int(input(\"enter row = \"))\n",
    "while a<=n:\n",
    "    name = input(\"enter your name = \")\n",
    "    phone = int(input(\"enter your phone = \"))\n",
    "    info = name + \" --- \" + str(phone)\n",
    "    data =data + info + \"\\n\"\n",
    "    a=a+1\n",
    "print(data)"
   ]
  },
  {
   "cell_type": "code",
   "execution_count": 1,
   "metadata": {},
   "outputs": [
    {
     "name": "stdout",
     "output_type": "stream",
     "text": [
      "Hello"
     ]
    }
   ],
   "source": [
    "#while as if statement = condition haru uncertain xa bhane while loop. specila case ma use garxnu parxa \n",
    "# condition haru true hunjel sama while loop use garxau\n",
    "\n",
    "a= \"Hello world\"\n",
    "n= len(a)\n",
    "b=0\n",
    "while b<n:\n",
    "    if a[b] == \" \":\n",
    "    \n",
    "        break\n",
    "    print(a[b],end=\"\")\n",
    "    b= b+1\n",
    "    \n"
   ]
  },
  {
   "cell_type": "code",
   "execution_count": 1,
   "metadata": {},
   "outputs": [
    {
     "name": "stdout",
     "output_type": "stream",
     "text": [
      "Helloworld"
     ]
    }
   ],
   "source": [
    "a= \"Hello world\"\n",
    "n= len(a)\n",
    "b=0\n",
    "while b<n:\n",
    "    if a[b] == \" \":\n",
    "        b=b+1\n",
    "        continue\n",
    "    print(a[b],end=\"\")\n",
    "    b= b+1\n",
    "    "
   ]
  },
  {
   "cell_type": "code",
   "execution_count": 42,
   "metadata": {},
   "outputs": [
    {
     "name": "stdout",
     "output_type": "stream",
     "text": [
      "enter the starting value = 1\n",
      "enter the last value = 21\n",
      "1  are prime number \n",
      "2  are prime number \n",
      "3  are prime number \n",
      "4  are composite number \n",
      "5  are prime number \n",
      "6  are composite number \n",
      "7  are prime number \n",
      "8  are composite number \n",
      "9  are composite number \n",
      "10  are composite number \n",
      "11  are prime number \n",
      "12  are composite number \n",
      "13  are prime number \n",
      "14  are composite number \n",
      "15  are composite number \n",
      "16  are composite number \n",
      "17  are prime number \n",
      "18  are composite number \n",
      "19  are prime number \n",
      "20  are composite number \n",
      "21  are composite number \n"
     ]
    }
   ],
   "source": [
    "#Class work\n",
    "#Prime number and Composite Number\n",
    "#prime number are 1,2,3,5,7,11,13,17,\n",
    "s = int(input(\"enter the starting value = \"))\n",
    "l = int(input(\"enter the last value = \"))\n",
    "for i in range(s, l+1):\n",
    "    if i>0:\n",
    "        for j in range(2, i):\n",
    "            if (i % j) == 0:\n",
    "                print(i, \" are composite number \")\n",
    "                break  \n",
    "        else:\n",
    "            print(i,\" are prime number \")\n",
    "            "
   ]
  },
  {
   "cell_type": "code",
   "execution_count": 50,
   "metadata": {},
   "outputs": [
    {
     "name": "stdout",
     "output_type": "stream",
     "text": [
      "enter the starting value = 1\n",
      "enter the last value = 21\n",
      "Prime Number are:- \n",
      "1,2,3,5,7,11,13,17,19,\n",
      "---------------------------------\n",
      "Composite Number are:- \n",
      "4,6,8,9,10,12,14,15,16,18,20,"
     ]
    }
   ],
   "source": [
    "#next method\n",
    "s = int(input(\"enter the starting value = \"))\n",
    "l = int(input(\"enter the last value = \"))\n",
    "print(\"Prime Number are:- \")\n",
    "for i in range(s, l+1):\n",
    "    \n",
    "    if i>0:\n",
    "        for j in range(2, i):\n",
    "            if (i % j) == 0:\n",
    "                break  \n",
    "        else:\n",
    "            print(i,end=\",\")\n",
    "            \n",
    "print(\"\\n\"+\"---------------------------------\")\n",
    "print(\"Composite Number are:- \")          \n",
    "for i in range(s,l):\n",
    "    \n",
    "    if i>0:\n",
    "        for j in range(2, i):\n",
    "            if(i%j)==0:\n",
    "                print(i, end =\",\")\n",
    "                break\n",
    "            "
   ]
  },
  {
   "cell_type": "code",
   "execution_count": 2,
   "metadata": {},
   "outputs": [
    {
     "name": "stdout",
     "output_type": "stream",
     "text": [
      "hello world\n"
     ]
    }
   ],
   "source": [
    "#function]\n",
    "# def <function>: defining function \n",
    "#     <operations>\n",
    "#<function() calling function\n",
    "#eg:\n",
    "def hello():\n",
    "    print(\"hello world\")\n",
    "    \n",
    "hello()\n",
    "\n",
    "#types of function\n",
    "# (i) function with no argument and no return type\n",
    "# (ii) function with argument and no return type\n",
    "# (iii) function with no argument and return type\n",
    "# (iv) function with argument and return type\n"
   ]
  },
  {
   "cell_type": "code",
   "execution_count": 3,
   "metadata": {},
   "outputs": [
    {
     "name": "stdout",
     "output_type": "stream",
     "text": [
      "enter the number to run program 1\n",
      "Enter the value of p 454\n",
      "Enter the value of t 4\n",
      "Enter the value of r 45\n",
      "the simple intrest value =  817.2\n"
     ]
    }
   ],
   "source": [
    "# (i) function with no argument and no return type\n",
    "def cal():\n",
    "    p=float(input(\"Enter the value of p \")) #local variables\n",
    "    t=float(input(\"Enter the value of t \"))\n",
    "    r= float(input(\"Enter the value of r \"))\n",
    "    i=(p*t*r)/100\n",
    "    print(\"the simple intrest value = \",i)\n",
    "n=int(input(\"enter the number to run program \"))\n",
    "for i in range(n):\n",
    "    cal()"
   ]
  },
  {
   "cell_type": "code",
   "execution_count": 4,
   "metadata": {},
   "outputs": [
    {
     "name": "stdout",
     "output_type": "stream",
     "text": [
      "Enter the value of p 5445\n",
      "Enter the value of t 1\n",
      "Enter the value of r 455\n",
      "enter the number to run program 1\n",
      "the simple intrest value =  24774.75\n"
     ]
    }
   ],
   "source": [
    "n=int(input(\"enter the number to run program \"))\n",
    "p=float(input(\"Enter the value of p \")) #Global variables\n",
    "t=float(input(\"Enter the value of t \"))\n",
    "r= float(input(\"Enter the value of r \"))\n",
    "def cal():\n",
    "    i=(p*t*r)/100\n",
    "    print(\"the simple intrest value = \",i)\n",
    "for i in range(n):\n",
    "    cal()"
   ]
  },
  {
   "cell_type": "code",
   "execution_count": 6,
   "metadata": {},
   "outputs": [
    {
     "name": "stdout",
     "output_type": "stream",
     "text": [
      "Hello World\n",
      "enter the number to run program 1\n",
      "Enter the value of p 7\n",
      "Enter the value of t 1\n",
      "Enter the value of r 2\n",
      "the simple intrest value =  0.14\n"
     ]
    }
   ],
   "source": [
    "# (ii) function with argument and no return type\n",
    "def hello(x):\n",
    "    print(x)\n",
    "hello(\"Hello World\")\n",
    "\n",
    "def cal(x,y,z):\n",
    "    global i \n",
    "    i=(x*y*z)/100 #value of v is global\n",
    "    print(\"the simple intrest value = \",i)\n",
    "    \n",
    "n=int(input(\"enter the number to run program \"))\n",
    "p=float(input(\"Enter the value of p \")) #Global variables\n",
    "t=float(input(\"Enter the value of t \"))\n",
    "r= float(input(\"Enter the value of r \"))\n",
    "for i in range(n):\n",
    "    cal(p,t,r)"
   ]
  },
  {
   "cell_type": "code",
   "execution_count": 7,
   "metadata": {},
   "outputs": [
    {
     "name": "stdout",
     "output_type": "stream",
     "text": [
      "20\n"
     ]
    }
   ],
   "source": [
    "# (iii) function with no argument and return type\n",
    "def cal(x=5,y=4):\n",
    "    z=x*y\n",
    "    print(z)\n",
    "    \n",
    "cal()"
   ]
  },
  {
   "cell_type": "code",
   "execution_count": 9,
   "metadata": {},
   "outputs": [
    {
     "name": "stdout",
     "output_type": "stream",
     "text": [
      "6\n"
     ]
    }
   ],
   "source": [
    "def cal(x=5,y=b):\n",
    "    z=x*y\n",
    "    print(z)\n",
    "l=2\n",
    "b=3\n",
    "cal(l)"
   ]
  },
  {
   "cell_type": "code",
   "execution_count": 12,
   "metadata": {},
   "outputs": [
    {
     "name": "stdout",
     "output_type": "stream",
     "text": [
      "enter name = ghf\n",
      "enter age12\n",
      "Enter addresscg\n",
      "ghf12cg\n"
     ]
    }
   ],
   "source": [
    "def info(c):\n",
    "    x,y,z = c\n",
    "    a= x + str(y) + z\n",
    "    print(a)\n",
    "name = input(\"enter name = \")\n",
    "age = int(input(\"enter age\"))\n",
    "add = input(\"Enter address\")\n",
    "b = [name, age, add]\n",
    "info(b)"
   ]
  },
  {
   "cell_type": "code",
   "execution_count": 19,
   "metadata": {},
   "outputs": [
    {
     "name": "stdout",
     "output_type": "stream",
     "text": [
      "Area =  6\n",
      "Volume =  12\n"
     ]
    }
   ],
   "source": [
    "def cal():\n",
    "    l=2\n",
    "    b=3\n",
    "    a=l*b\n",
    "    return a\n",
    "area = cal()\n",
    "print(\"Area = \",area)\n",
    "h=2\n",
    "v=area*h\n",
    "print(\"Volume = \",v)"
   ]
  },
  {
   "cell_type": "code",
   "execution_count": 21,
   "metadata": {},
   "outputs": [
    {
     "name": "stdout",
     "output_type": "stream",
     "text": [
      "Area =  6\n",
      "Volume =  18\n"
     ]
    }
   ],
   "source": [
    "def cal():\n",
    "    l=2\n",
    "    b=3\n",
    "    a=l*b\n",
    "    return a\n",
    "\n",
    "def vol():\n",
    "    h=3\n",
    "    v=cal()*h\n",
    "    return v\n",
    "\n",
    "print(\"Area = \",cal())\n",
    "print(\"Volume = \",vol())"
   ]
  },
  {
   "cell_type": "code",
   "execution_count": null,
   "metadata": {},
   "outputs": [],
   "source": [
    "#function with argument and return type\n",
    "a= int(intput(\"Enter the value of a = \"))\n",
    "b = int(intput(\"Enter the value of b = \"))\n",
    "o = intput(\"Enter the value of 0 = \")\n",
    "if 0 == \"+\""
   ]
  },
  {
   "cell_type": "code",
   "execution_count": null,
   "metadata": {},
   "outputs": [],
   "source": [
    "#recursive \n",
    "def total(b,c):\n",
    "    return b+c\n",
    "def all_totals(x,y):\n",
    "    return x + y\n",
    "def bill():\n",
    "    return name + \" \" +str(price)+\" \"+ str(quantity)+ \" \" +str(total)\n",
    "def cal():\n",
    "    all_total = 0\n",
    "    net_bill = \"\"\n",
    "    name = input(\"Enter name = \")\n",
    "    price = int(input(\"Enter price = \"))\n",
    "    quantity = int(input(\"Enter quantity\"))\n",
    "    z = input(\"enter the value of z ,t for total = \")\n",
    "    if z == \"t\":\n",
    "        print(total(price,quantity))\n",
    "    \n",
    "    elif z == \"a\":\n",
    "        print(all_totals(all_total,total(price,quantity)))\n",
    "#     elif z == \"b\":\n",
    "#         print(bill(name,str(price),str(quantity),str(total()))\n",
    "\n",
    "#     bill = name + \" \" +str(price)+\" \"+ str(quantity)+ \" \" +str(total)\n",
    "    \n",
    "#     net_bill = net_bill+bill+\"\\n\"\n",
    "    x= input(\"enter the value of x where y = yes = \")\n",
    "    if x == \"y\":\n",
    "        cal()\n",
    "cal()"
   ]
  },
  {
   "cell_type": "code",
   "execution_count": 4,
   "metadata": {},
   "outputs": [
    {
     "name": "stdout",
     "output_type": "stream",
     "text": [
      "Enter name = asdfg\n",
      "Enter price = 154\n",
      "Enter quantity1\n",
      "enter the value of z ,t for total = n\n"
     ]
    },
    {
     "ename": "TypeError",
     "evalue": "bill() takes 1 positional argument but 5 were given",
     "output_type": "error",
     "traceback": [
      "\u001b[1;31m---------------------------------------------------------------------------\u001b[0m",
      "\u001b[1;31mTypeError\u001b[0m                                 Traceback (most recent call last)",
      "\u001b[1;32m<ipython-input-4-0944a7f913bc>\u001b[0m in \u001b[0;36m<module>\u001b[1;34m\u001b[0m\n\u001b[0;32m     33\u001b[0m     \u001b[1;32mif\u001b[0m \u001b[0mx\u001b[0m \u001b[1;33m==\u001b[0m \u001b[1;34m\"y\"\u001b[0m\u001b[1;33m:\u001b[0m\u001b[1;33m\u001b[0m\u001b[1;33m\u001b[0m\u001b[0m\n\u001b[0;32m     34\u001b[0m         \u001b[0mcal\u001b[0m\u001b[1;33m(\u001b[0m\u001b[1;33m)\u001b[0m\u001b[1;33m\u001b[0m\u001b[1;33m\u001b[0m\u001b[0m\n\u001b[1;32m---> 35\u001b[1;33m \u001b[0mcal\u001b[0m\u001b[1;33m(\u001b[0m\u001b[1;33m)\u001b[0m\u001b[1;33m\u001b[0m\u001b[1;33m\u001b[0m\u001b[0m\n\u001b[0m",
      "\u001b[1;32m<ipython-input-4-0944a7f913bc>\u001b[0m in \u001b[0;36mcal\u001b[1;34m()\u001b[0m\n\u001b[0;32m     27\u001b[0m \u001b[1;33m\u001b[0m\u001b[0m\n\u001b[0;32m     28\u001b[0m     \u001b[1;32mif\u001b[0m \u001b[0mz\u001b[0m\u001b[1;33m==\u001b[0m \u001b[1;34m\"n\"\u001b[0m\u001b[1;33m:\u001b[0m\u001b[1;33m\u001b[0m\u001b[1;33m\u001b[0m\u001b[0m\n\u001b[1;32m---> 29\u001b[1;33m         \u001b[0mnet_bill\u001b[0m \u001b[1;33m=\u001b[0m \u001b[0mnet_bill\u001b[0m\u001b[1;33m+\u001b[0m\u001b[0mbill\u001b[0m\u001b[1;33m(\u001b[0m\u001b[1;34m\"Name:- \"\u001b[0m\u001b[1;33m,\u001b[0m\u001b[0mname\u001b[0m\u001b[1;33m,\u001b[0m\u001b[1;34m\" | Price:- \"\u001b[0m\u001b[1;33m+\u001b[0m\u001b[0mstr\u001b[0m\u001b[1;33m(\u001b[0m\u001b[0mprice\u001b[0m\u001b[1;33m)\u001b[0m\u001b[1;33m,\u001b[0m\u001b[1;34m\" | Quantity:- \"\u001b[0m\u001b[1;33m+\u001b[0m\u001b[0mstr\u001b[0m\u001b[1;33m(\u001b[0m\u001b[0mquantity\u001b[0m\u001b[1;33m)\u001b[0m\u001b[1;33m,\u001b[0m\u001b[1;34m\" | Total:- \"\u001b[0m\u001b[1;33m+\u001b[0m\u001b[0mstr\u001b[0m\u001b[1;33m(\u001b[0m\u001b[0mtotal\u001b[0m\u001b[1;33m(\u001b[0m\u001b[0mprice\u001b[0m\u001b[1;33m,\u001b[0m\u001b[0mquantity\u001b[0m\u001b[1;33m)\u001b[0m\u001b[1;33m)\u001b[0m\u001b[1;33m)\u001b[0m\u001b[1;33m+\u001b[0m\u001b[1;34m\"\\n\"\u001b[0m\u001b[1;33m\u001b[0m\u001b[1;33m\u001b[0m\u001b[0m\n\u001b[0m\u001b[0;32m     30\u001b[0m         \u001b[0mprint\u001b[0m\u001b[1;33m(\u001b[0m\u001b[0mnetbil\u001b[0m\u001b[1;33m(\u001b[0m\u001b[0mnet_bill\u001b[0m\u001b[1;33m)\u001b[0m\u001b[1;33m)\u001b[0m\u001b[1;33m\u001b[0m\u001b[1;33m\u001b[0m\u001b[0m\n\u001b[0;32m     31\u001b[0m \u001b[1;31m#this is for\u001b[0m\u001b[1;33m\u001b[0m\u001b[1;33m\u001b[0m\u001b[1;33m\u001b[0m\u001b[0m\n",
      "\u001b[1;31mTypeError\u001b[0m: bill() takes 1 positional argument but 5 were given"
     ]
    }
   ],
   "source": [
    "#recursive \n",
    "def total(b,c):\n",
    "    return b*c\n",
    "def all_totals(m,y):\n",
    "    return m + y\n",
    "def bill(p):\n",
    "#     p = name +b+ c+y\n",
    "    return p\n",
    "def netbil():\n",
    "    return netbill + bill()\n",
    "\n",
    "def cal():\n",
    "    all_total = 0\n",
    "   \n",
    "    name = input(\"Enter name = \")\n",
    "    price = int(input(\"Enter price = \"))\n",
    "    quantity = int(input(\"Enter quantity\"))\n",
    "    z = input(\"enter the value of z ,t for total = \")\n",
    "    if z == \"t\":\n",
    "        print(total(price,quantity))\n",
    "    if z == \"a\":\n",
    "        print(all_totals(all_total,total(price,quantity)))    \n",
    "    if z == \"b\":\n",
    "        bil= (\"Name:- \",name,\" | Price:- \"+str(price),\" | Quantity:- \"+str(quantity),\" | Total:- \"+str(total(price,quantity)))\n",
    "        print(bill(bil))\n",
    "               \n",
    "    if z== \"n\":\n",
    "#          net_bill = net_bill+bill+\"\\n\"\n",
    "        print(netbil)\n",
    "#this is for               \n",
    "    x = input(\"enter y for yes and other for no = \")\n",
    "    if x == \"y\":\n",
    "        cal()\n",
    "cal()"
   ]
  },
  {
   "cell_type": "code",
   "execution_count": 1,
   "metadata": {},
   "outputs": [
    {
     "name": "stdout",
     "output_type": "stream",
     "text": [
      "Enter how many products = 2\n",
      "Enter name = asdfg\n",
      "Enter price = 2145\n",
      "Enter quantity1\n",
      "Enter name = asdfgh\n",
      "Enter price = 214\n",
      "Enter quantity12\n",
      "My net bill is = \n",
      " asdfg 2145 1 2145\n",
      "asdfgh 214 12 2568\n",
      "\n",
      "My all total =  4713\n"
     ]
    }
   ],
   "source": [
    "all_total = 0\n",
    "net_bill = \"\"\n",
    "n = int(input(\"Enter how many products = \"))\n",
    "for i in range(n):\n",
    "    name = input(\"Enter name = \")\n",
    "    price = int(input(\"Enter price = \"))\n",
    "    quantity = int(input(\"Enter quantity\"))\n",
    "    total = price*quantity\n",
    "    all_total = all_total+total\n",
    "    \n",
    "    bill = name + \" \" +str(price)+\" \"+ str(quantity)+ \" \" +str(total)\n",
    "    \n",
    "    net_bill = net_bill+bill+\"\\n\"\n",
    "print(\"My net bill is = \\n\",net_bill)\n",
    "print(\"My all total = \",all_total)"
   ]
  },
  {
   "cell_type": "code",
   "execution_count": 5,
   "metadata": {},
   "outputs": [
    {
     "name": "stdout",
     "output_type": "stream",
     "text": [
      "enter your name = fsg\n",
      "enter your age = 21\n",
      "enter your add = fegd\n",
      "my name is fsg. i am 21. i am from fegd. \n",
      "\n"
     ]
    }
   ],
   "source": [
    "#String formatting\n",
    "name =input(\"enter your name = \")\n",
    "age = int(input(\"enter your age = \"))\n",
    "add = input(\"enter your add = \")\n",
    "info = f\"my name is {name}. i am {age}. i am from {add}. \\n\"\n",
    "print(info)\n"
   ]
  },
  {
   "cell_type": "code",
   "execution_count": 6,
   "metadata": {},
   "outputs": [
    {
     "name": "stdout",
     "output_type": "stream",
     "text": [
      "yes\n",
      "1\n"
     ]
    }
   ],
   "source": [
    "#search\n",
    "a= \"hello world i am python\"\n",
    "if \"python\" in a:\n",
    "    print(\"yes\")\n",
    "else:\n",
    "    print(\"no\")\n",
    "    \n",
    "print(a.count(\"python\"))"
   ]
  },
  {
   "cell_type": "code",
   "execution_count": 8,
   "metadata": {},
   "outputs": [
    {
     "name": "stdout",
     "output_type": "stream",
     "text": [
      "Enter any value for search python\n",
      "yes\n",
      "No of search(python) value is  1\n"
     ]
    }
   ],
   "source": [
    "a= \"hello world i am python\"\n",
    "search= input(\"Enter any value for search \")\n",
    "if search in a:\n",
    "    print(\"yes\")\n",
    "else:\n",
    "    print(\"no\")\n",
    "    \n",
    "print(f\"No of search({search}) value is \",a.count(search))"
   ]
  },
  {
   "cell_type": "code",
   "execution_count": 9,
   "metadata": {},
   "outputs": [
    {
     "name": "stdout",
     "output_type": "stream",
     "text": [
      "HELLO WORLD I AM PYTHON\n",
      "hello world i am python\n"
     ]
    }
   ],
   "source": [
    "print(a.upper())\n",
    "print(a.lower())"
   ]
  },
  {
   "cell_type": "code",
   "execution_count": 11,
   "metadata": {},
   "outputs": [
    {
     "name": "stdout",
     "output_type": "stream",
     "text": [
      "Enter any value for search PYTHON\n",
      "yes\n",
      "No of search(PYTHON) value is  1\n"
     ]
    }
   ],
   "source": [
    "a= \"hello world i am python\"\n",
    "search= input(\"Enter any value for search \")\n",
    "search_lower = search.lower()\n",
    "a_lower= a.lower()\n",
    "if search_lower in a_lower:\n",
    "    print(\"yes\")\n",
    "else:\n",
    "    print(\"no\")\n",
    "    \n",
    "print(f\"No of search({search}) value is \",a_lower.count(search_lower))"
   ]
  },
  {
   "cell_type": "code",
   "execution_count": 12,
   "metadata": {},
   "outputs": [
    {
     "name": "stdout",
     "output_type": "stream",
     "text": [
      "Enter the value for search python\n",
      "Enter the value for replace PYTHON\n",
      "hello world i am PYTHON. \n"
     ]
    }
   ],
   "source": [
    "#replace\n",
    "a= \"hello world i am python. \"\n",
    "search = input(\"Enter the value for search \")\n",
    "replace = input(\"Enter the value for replace \")\n",
    "b=a.replace(search,replace)\n",
    "print(b)"
   ]
  },
  {
   "cell_type": "code",
   "execution_count": 15,
   "metadata": {},
   "outputs": [
    {
     "name": "stdout",
     "output_type": "stream",
     "text": [
      "['apple ', ' ball']\n"
     ]
    }
   ],
   "source": [
    "a= \"apple , ball\"\n",
    "b=a.split(\",\")\n",
    "print(b)"
   ]
  },
  {
   "cell_type": "code",
   "execution_count": 16,
   "metadata": {},
   "outputs": [
    {
     "data": {
      "text/plain": [
       "'apple '"
      ]
     },
     "execution_count": 16,
     "metadata": {},
     "output_type": "execute_result"
    }
   ],
   "source": [
    "b[0]"
   ]
  },
  {
   "cell_type": "code",
   "execution_count": 17,
   "metadata": {},
   "outputs": [],
   "source": [
    "#Python Collections\n",
    "#list \n",
    "# Tuples\n",
    "# Dictionary\n",
    "# Set\n"
   ]
  },
  {
   "cell_type": "code",
   "execution_count": 18,
   "metadata": {},
   "outputs": [
    {
     "name": "stdout",
     "output_type": "stream",
     "text": [
      "['Apple', 'Ball', 'Cat']\n",
      "[1, 2, 3, 4, 5, 6]\n"
     ]
    }
   ],
   "source": [
    "# List\n",
    "# -indexed\n",
    "# -ordered\n",
    "# -duplicate members\n",
    "# -mutable\n",
    "\n",
    "a= [\"Apple\", \"Ball\", \"Cat\"]\n",
    "b=[1,2,3,4,5,6]\n",
    "print(a)\n",
    "print(b)"
   ]
  },
  {
   "cell_type": "code",
   "execution_count": 19,
   "metadata": {},
   "outputs": [
    {
     "data": {
      "text/plain": [
       "list"
      ]
     },
     "execution_count": 19,
     "metadata": {},
     "output_type": "execute_result"
    }
   ],
   "source": [
    "type(a)"
   ]
  },
  {
   "cell_type": "code",
   "execution_count": 20,
   "metadata": {},
   "outputs": [
    {
     "data": {
      "text/plain": [
       "3"
      ]
     },
     "execution_count": 20,
     "metadata": {},
     "output_type": "execute_result"
    }
   ],
   "source": [
    "len(a)"
   ]
  },
  {
   "cell_type": "code",
   "execution_count": 21,
   "metadata": {},
   "outputs": [
    {
     "data": {
      "text/plain": [
       "6"
      ]
     },
     "execution_count": 21,
     "metadata": {},
     "output_type": "execute_result"
    }
   ],
   "source": [
    "len(b)"
   ]
  },
  {
   "cell_type": "code",
   "execution_count": 22,
   "metadata": {},
   "outputs": [
    {
     "data": {
      "text/plain": [
       "[1, 2, 3, 1, 2, 3, 1, 2, 3]"
      ]
     },
     "execution_count": 22,
     "metadata": {},
     "output_type": "execute_result"
    }
   ],
   "source": [
    "a= [1,2,3] #list is used for data collection its value can not be multiply\n",
    "a*3  #for multiply numpy is used (list * 3)\n"
   ]
  },
  {
   "cell_type": "code",
   "execution_count": 25,
   "metadata": {},
   "outputs": [
    {
     "name": "stdout",
     "output_type": "stream",
     "text": [
      "['apple']\n",
      "['apple']\n",
      "[1, 2]\n"
     ]
    }
   ],
   "source": [
    "#list ma string can not be add \n",
    "#ex:-\n",
    "# a=[]\n",
    "# b=\"ram\"\n",
    "#a.sort() mutable value \n",
    "#mutabe action can't be print\n",
    "#eg print(a.sort()) error \n",
    "#sort ascending order\n",
    "#reverse descending order\n",
    "#concat\n",
    "a=[]\n",
    "b=[\"apple\"]\n",
    "c=a+b\n",
    "print(c)\n",
    "\n",
    "#append\n",
    "a=[]\n",
    "b=\"apple\"\n",
    "a.append(b)\n",
    "print(a)\n",
    "\n",
    "a=[1]\n",
    "a.append(2)\n",
    "print(a)\n"
   ]
  },
  {
   "cell_type": "code",
   "execution_count": 3,
   "metadata": {},
   "outputs": [
    {
     "name": "stdout",
     "output_type": "stream",
     "text": [
      "['apple', 'ball', 'cat', 'dog', 'fish']\n",
      "enter any value for search = aPPle\n",
      "Yes\n"
     ]
    }
   ],
   "source": [
    "b=[]\n",
    "a=[\"Apple\",\"Ball\",\"Cat\",\"Dog\",\"Fish\"]\n",
    "for i in a:\n",
    "    x= i.lower()\n",
    "    b.append(x)\n",
    "print(b)\n",
    "n= input(\"enter any value for search = \")\n",
    "if n.lower() in b:\n",
    "    print(\"Yes\")"
   ]
  },
  {
   "cell_type": "code",
   "execution_count": 4,
   "metadata": {},
   "outputs": [
    {
     "name": "stdout",
     "output_type": "stream",
     "text": [
      "0\n",
      "2\n"
     ]
    }
   ],
   "source": [
    "a=[\"Apple\", \"Ball\", \"Apple\"]\n",
    "n=len(a)\n",
    "for i in range(n):\n",
    "    if a[i] == \"Apple\":\n",
    "        print(i)"
   ]
  },
  {
   "cell_type": "code",
   "execution_count": 7,
   "metadata": {},
   "outputs": [
    {
     "name": "stdout",
     "output_type": "stream",
     "text": [
      "[0, 2] Apple\n"
     ]
    }
   ],
   "source": [
    "z=[]\n",
    "a=[\"Apple\", \"Ball\", \"Apple\"]\n",
    "n=len(a)\n",
    "for i in range(n):\n",
    "    if a[i] == \"Apple\":\n",
    "        z.append(i)\n",
    "print(z,a[i])"
   ]
  },
  {
   "cell_type": "code",
   "execution_count": 8,
   "metadata": {},
   "outputs": [
    {
     "name": "stdout",
     "output_type": "stream",
     "text": [
      "['Ant', 'Ball', 'Apple']\n"
     ]
    }
   ],
   "source": [
    "#update\n",
    "a=[\"Apple\", \"Ball\", \"Apple\"]\n",
    "a[0] = \"Ant\"\n",
    "print(a)"
   ]
  },
  {
   "cell_type": "code",
   "execution_count": 12,
   "metadata": {},
   "outputs": [
    {
     "name": "stdout",
     "output_type": "stream",
     "text": [
      "['Ant', 'Ball', 'Ant']\n"
     ]
    }
   ],
   "source": [
    "a=[\"Apple\", \"Ball\", \"Apple\"]\n",
    "n=len(a)\n",
    "for i in range(n):\n",
    "    if a[i] == \"Apple\":\n",
    "        a[i] = \"Ant\"\n",
    "print(a)"
   ]
  },
  {
   "cell_type": "code",
   "execution_count": 14,
   "metadata": {},
   "outputs": [
    {
     "name": "stdout",
     "output_type": "stream",
     "text": [
      "['Apple']\n"
     ]
    }
   ],
   "source": [
    "#delete\n",
    "a=[\"Apple\", \"Ball\", \"Apple\"]\n",
    "del a[0:2]\n",
    "print(a)"
   ]
  },
  {
   "cell_type": "code",
   "execution_count": 15,
   "metadata": {},
   "outputs": [
    {
     "name": "stdout",
     "output_type": "stream",
     "text": [
      "['Apple', 'Apple']\n"
     ]
    }
   ],
   "source": [
    "a=[\"Apple\", \"Ball\", \"Apple\"]\n",
    "a.remove(\"Ball\")\n",
    "print(a)"
   ]
  },
  {
   "cell_type": "code",
   "execution_count": 23,
   "metadata": {},
   "outputs": [
    {
     "name": "stdout",
     "output_type": "stream",
     "text": [
      "['Ball', 'Cat', 'Dog']\n"
     ]
    }
   ],
   "source": [
    "b= []\n",
    "a=[\"Apple\", \"Ball\", \"Apple\",\"Cat\",\"Dog\"]\n",
    "n=len(a)\n",
    "for i in range(n):\n",
    "    if a[i] == \"Apple\":\n",
    "        continue\n",
    "    b.append(a[i])\n",
    "print(b)"
   ]
  },
  {
   "cell_type": "code",
   "execution_count": 24,
   "metadata": {},
   "outputs": [
    {
     "name": "stdout",
     "output_type": "stream",
     "text": [
      "['Apple', 'Ball', 'Cat', 'Dog']\n",
      "Apple\n"
     ]
    }
   ],
   "source": [
    "#pop() same as delete \n",
    "a=[\"Apple\", \"Ball\", \"Apple\",\"Cat\",\"Dog\"]\n",
    "b=a.pop(2)\n",
    "print(a)\n",
    "print(b)\n",
    "\n"
   ]
  },
  {
   "cell_type": "code",
   "execution_count": 25,
   "metadata": {},
   "outputs": [
    {
     "data": {
      "text/plain": [
       "[1, 2]"
      ]
     },
     "execution_count": 25,
     "metadata": {},
     "output_type": "execute_result"
    }
   ],
   "source": [
    "#two dimensional list\n",
    "a = [[1,2],[2,3],[3,4]]\n",
    "a[0]"
   ]
  },
  {
   "cell_type": "code",
   "execution_count": 26,
   "metadata": {},
   "outputs": [
    {
     "data": {
      "text/plain": [
       "2"
      ]
     },
     "execution_count": 26,
     "metadata": {},
     "output_type": "execute_result"
    }
   ],
   "source": [
    "a[0][1]"
   ]
  },
  {
   "cell_type": "code",
   "execution_count": 11,
   "metadata": {},
   "outputs": [
    {
     "name": "stdout",
     "output_type": "stream",
     "text": [
      "Enter how many products = 2\n",
      "Enter name = gfjs\n",
      "Enter price = 15\n",
      "Enter quantity12\n",
      "Enter name = fsj\n",
      "Enter price = 1\n",
      "Enter quantity154\n",
      "[['gfjs', 15, 12], ['fsj', 1, 154]]\n",
      "[154]\n",
      "Enter the name for search = hfsj\n",
      "Not Found!! hfsj\n",
      "Not Found!! hfsj\n"
     ]
    }
   ],
   "source": [
    "#list lai append garyau bhane list inside list banxa\n",
    "#billing system total net total search update remove and so on\n",
    "empty = []\n",
    "n = int(input(\"Enter how many products = \"))\n",
    "for i in range(n):\n",
    "    name = input(\"Enter name = \")\n",
    "    price = int(input(\"Enter price = \"))\n",
    "    quantity = int(input(\"Enter quantity\"))\n",
    "    data = [name, price, quantity]\n",
    "    empty.append(data)\n",
    "    total = [price*quantity] \n",
    "print(empty)\n",
    "print(total)\n",
    "z = len(empty)\n",
    "click =input(\"Enter what can u do search,remove,\")\n",
    "for i in range(z):\n",
    "    if click == \"search\":\n",
    "        search = input(\"Enter the name for search = \")\n",
    "        if search in empty[i]:\n",
    "            print(f\" index = {i} Searched value= {search}\")\n",
    "        else:\n",
    "            print(f\"Not Found!! {search}\")\n",
    "    if click == \"remove\":\n",
    "        removes = input(\"Enter the value for remove \")\n",
    "        empty.remove(removes)\n",
    "        print(empty)\n",
    "    \n",
    "    \n"
   ]
  },
  {
   "cell_type": "code",
   "execution_count": 2,
   "metadata": {},
   "outputs": [
    {
     "name": "stdout",
     "output_type": "stream",
     "text": [
      "(1, 2, 3)\n"
     ]
    }
   ],
   "source": [
    "#tuple\n",
    "a = ()\n",
    "a = (1,)\n",
    "a= (1,2,3,)\n",
    "print(a)"
   ]
  },
  {
   "cell_type": "code",
   "execution_count": 4,
   "metadata": {},
   "outputs": [
    {
     "name": "stdout",
     "output_type": "stream",
     "text": [
      "(1, 2)\n"
     ]
    }
   ],
   "source": [
    "#tuple ma update, append (function) garna mildaina, tuple is immutable(not changebale), its value is fixed\n",
    "#list is used for the value is changeable \n",
    "#tuple is used for the value is fixed or constant\n",
    "#for update in table\n",
    "a=()\n",
    "b= (1,)\n",
    "c=a+b\n",
    "d=c+(2,)\n",
    "print(d)"
   ]
  },
  {
   "cell_type": "code",
   "execution_count": 5,
   "metadata": {},
   "outputs": [
    {
     "name": "stdout",
     "output_type": "stream",
     "text": [
      "[5, 24, 2143, 3244, 3244, 4531]\n"
     ]
    }
   ],
   "source": [
    "a=(2143,24,3244,3244,5,4531,)\n",
    "b= sorted(a)\n",
    "print(b)"
   ]
  },
  {
   "cell_type": "code",
   "execution_count": 6,
   "metadata": {},
   "outputs": [
    {
     "data": {
      "text/plain": [
       "('p', 'y', 't', 'h', 'o', 'n')"
      ]
     },
     "execution_count": 6,
     "metadata": {},
     "output_type": "execute_result"
    }
   ],
   "source": [
    "a= \"python\"\n",
    "tuple(a)"
   ]
  },
  {
   "cell_type": "code",
   "execution_count": 7,
   "metadata": {},
   "outputs": [
    {
     "data": {
      "text/plain": [
       "\"('p', 'y', 't', 'h', 'o', 'n')\""
      ]
     },
     "execution_count": 7,
     "metadata": {},
     "output_type": "execute_result"
    }
   ],
   "source": [
    "a = ('p', 'y', 't', 'h', 'o', 'n')\n",
    "str(a)"
   ]
  },
  {
   "cell_type": "code",
   "execution_count": 8,
   "metadata": {},
   "outputs": [
    {
     "data": {
      "text/plain": [
       "([1, 2, 3], [3, 4, 5], [5, 6, 7])"
      ]
     },
     "execution_count": 8,
     "metadata": {},
     "output_type": "execute_result"
    }
   ],
   "source": [
    "#tuple inside tuple\n",
    "a=((1,2),(3,4),(5,6),)\n",
    "\n",
    "#list inside tuple\n",
    "a= ([1,2],[3,4],[5,6])\n",
    "\n",
    "#tuple inside list\n",
    "a=[(1,2),(3,4),(5,6)]\n",
    "\n",
    "\n",
    "a= [[1,2,3],[3,4,5],[5,6,7]]\n",
    "tuple(a)"
   ]
  },
  {
   "cell_type": "code",
   "execution_count": 11,
   "metadata": {},
   "outputs": [
    {
     "name": "stdout",
     "output_type": "stream",
     "text": [
      "(1, 2, 3)\n",
      "(3, 4, 5)\n",
      "(5, 6, 7)\n",
      "((1, 2, 3), (3, 4, 5), (5, 6, 7))\n"
     ]
    }
   ],
   "source": [
    "c=()\n",
    "for i in a:\n",
    "    b=tuple(i)\n",
    "    print(b)\n",
    "    c=c+(b,)\n",
    "print(c)"
   ]
  },
  {
   "cell_type": "code",
   "execution_count": 13,
   "metadata": {},
   "outputs": [
    {
     "name": "stdout",
     "output_type": "stream",
     "text": [
      "<class 'tuple'>\n"
     ]
    }
   ],
   "source": [
    "def cal():\n",
    "    a= 10\n",
    "    b=20\n",
    "    return a,b\n",
    "cal()\n",
    "print(type(cal()))"
   ]
  },
  {
   "cell_type": "code",
   "execution_count": 14,
   "metadata": {},
   "outputs": [
    {
     "name": "stdout",
     "output_type": "stream",
     "text": [
      "{}\n",
      "{}\n"
     ]
    }
   ],
   "source": [
    "#Dictionary \n",
    "# -indexed\n",
    "# -duplicate members\n",
    "# -ordered\n",
    "# -mutable\n",
    "# -no duplicate index\n",
    "#if key is same the value will upgrade\n",
    "#del is used for delete only one value a.del[1]\n",
    "#for range del command is not work a.del [0:1]\n",
    "#dictionary ko key mutable type hudaina \n",
    "#Syntax\n",
    "# a={<key>:<value>}\n",
    "\n",
    "a={}\n",
    "b= dict()\n",
    "print(a)\n",
    "print(b)"
   ]
  },
  {
   "cell_type": "code",
   "execution_count": 15,
   "metadata": {},
   "outputs": [],
   "source": [
    "a = {1:\"apple\",2:\"ball\"}\n",
    "b= {1:\"aapple\"}\n",
    "a.update(b)"
   ]
  },
  {
   "cell_type": "code",
   "execution_count": 16,
   "metadata": {},
   "outputs": [
    {
     "data": {
      "text/plain": [
       "{1: 'aapple', 2: 'ball'}"
      ]
     },
     "execution_count": 16,
     "metadata": {},
     "output_type": "execute_result"
    }
   ],
   "source": [
    "a"
   ]
  },
  {
   "cell_type": "code",
   "execution_count": 2,
   "metadata": {},
   "outputs": [
    {
     "name": "stdout",
     "output_type": "stream",
     "text": [
      "Enter the value of n = 2\n",
      "Enter the name = rice\n",
      "Enter the price = 50\n",
      "Enter the quantity = 14\n",
      "Enter the name = wheat\n",
      "Enter the price = 124\n",
      "Enter the quantity = 12\n",
      "[{'name': 'rice', 'price': 50, 'quantity': 14, 'total': 700, 'netTotal': 700}, {'name': 'wheat', 'price': 124, 'quantity': 12, 'total': 1488, 'netTotal': 2188}]\n"
     ]
    }
   ],
   "source": [
    "# List inside dictionary\n",
    "d= []\n",
    "netTotal = 0\n",
    "n= int(input(\"Enter the value of n = \"))\n",
    "for i in range(n):\n",
    "    name = input(\"Enter the name = \")\n",
    "    price = int(input(\"Enter the price = \"))\n",
    "    quantity = int(input(\"Enter the quantity = \"))\n",
    "    total = price*quantity\n",
    "    netTotal = netTotal + total\n",
    "    dict = {\"name\":name, \"price\":price, \"quantity\":quantity ,\"total\": total, \"netTotal\": netTotal}\n",
    "    d.append(dict)\n",
    "print(d)"
   ]
  },
  {
   "cell_type": "code",
   "execution_count": 3,
   "metadata": {},
   "outputs": [
    {
     "name": "stdout",
     "output_type": "stream",
     "text": [
      "[{'name': 'rice', 'price': 50, 'quantity': 14, 'total': 700, 'netTotal': 700}, {'name': 'wheat', 'price': 124, 'quantity': 12, 'total': 1488, 'netTotal': 2188}, {'name': 'dal', 'price': 100, 'quantity': 10, 'total': 1000, 'netTotal': 1000}]\n"
     ]
    }
   ],
   "source": [
    "b = {'name': 'dal', 'price': 100, 'quantity': 10, 'total': 1000, 'netTotal': 1000}\n",
    "d.append(b)\n",
    "print(d)"
   ]
  },
  {
   "cell_type": "code",
   "execution_count": 4,
   "metadata": {},
   "outputs": [
    {
     "name": "stdout",
     "output_type": "stream",
     "text": [
      "set()\n"
     ]
    }
   ],
   "source": [
    "# set\n",
    "# not indexed\n",
    "# no duplicate value\n",
    "# unordered\n",
    "#mutable data type\n",
    "# ega= \n",
    "a = set()\n",
    "print(a)\n",
    "# function of set\n",
    "# update\n",
    "# add"
   ]
  },
  {
   "cell_type": "code",
   "execution_count": null,
   "metadata": {},
   "outputs": [],
   "source": [
    "#exception Handling\n",
    "# csv file delete use nagarne replace use garne empty string rakhera\n",
    "def cal():\n",
    "    try:\n",
    "        a= int(input(\"Enter the value of a = \"))\n",
    "        b= int(input(\"Enter the value of b = \"))\n",
    "        c= a/b\n",
    "    except:\n",
    "        n=0\n",
    "        print(\"Value errored\")\n",
    "        cal()\n",
    "    else:\n",
    "        print(c)\n",
    "    finally:\n",
    "        print(\"Hello World\")\n",
    "cal()\n",
    "\n"
   ]
  },
  {
   "cell_type": "code",
   "execution_count": null,
   "metadata": {},
   "outputs": [],
   "source": [
    "# b= open(\"file name\",\"r,x\") file handling\n",
    "try:\n",
    "    b= open(\"file.txt\",\"x\")\n",
    "    b.close()\n",
    "except:\n",
    "    print(\"The File is Already Exists\")"
   ]
  },
  {
   "cell_type": "code",
   "execution_count": null,
   "metadata": {},
   "outputs": [],
   "source": [
    "b = open('file.txt','r')\n",
    "print(b.read())"
   ]
  },
  {
   "cell_type": "code",
   "execution_count": null,
   "metadata": {},
   "outputs": [],
   "source": [
    "# for print line\n",
    "b.printline()\n",
    "\n",
    "\n"
   ]
  },
  {
   "cell_type": "code",
   "execution_count": null,
   "metadata": {},
   "outputs": [],
   "source": [
    "b= open('file.csv','a')\n",
    "b.write(\"Sn, Name, Addres, Age\\n\")\n",
    "data = \"\"\n",
    "n= int(input(\"Enter n = \"))\n",
    "for i in range(1,n+1):\n",
    "    name = input(\"Enter name = \")\n",
    "    address = input(\"Enter Address = \")\n",
    "    age = input(\"Enter Age = \")\n",
    "    info = f\"{i},{name},{address},{age}\\n\"\n",
    "    data = data + info\n",
    "b.write(data)\n",
    "b.close()"
   ]
  },
  {
   "cell_type": "code",
   "execution_count": null,
   "metadata": {},
   "outputs": [],
   "source": [
    "b = open('file.csv','a')\n",
    "c= b.read()\n",
    "print(c)\n",
    "b.close()"
   ]
  },
  {
   "cell_type": "code",
   "execution_count": null,
   "metadata": {},
   "outputs": [],
   "source": [
    "d = c.split('\\n')\n",
    "print(d)\n",
    "e = d.split(',')"
   ]
  },
  {
   "cell_type": "code",
   "execution_count": null,
   "metadata": {},
   "outputs": [],
   "source": [
    "final_stage = []\n",
    "for i in e:\n",
    "    x = i.split(',')\n",
    "    final_data.append(x)\n",
    "print(final_data)"
   ]
  },
  {
   "cell_type": "code",
   "execution_count": null,
   "metadata": {},
   "outputs": [],
   "source": [
    "#CsV"
   ]
  },
  {
   "cell_type": "code",
   "execution_count": 3,
   "metadata": {},
   "outputs": [
    {
     "name": "stdout",
     "output_type": "stream",
     "text": [
      "Enter n = 4\n",
      "Enter name = om\n",
      "Enter Address = fsdjh\n",
      "Enter Age = 44\n",
      "Enter name = fjshj\n",
      "Enter Address = 1321\n",
      "Enter Age = 124\n",
      "Enter name = fkhWJK\n",
      "Enter Address = GFHJ\n",
      "Enter Age = 12\n",
      "Enter name = JFNJKAH\n",
      "Enter Address = 14\n",
      "Enter Age = 1\n"
     ]
    }
   ],
   "source": [
    "b= open('file.csv','w')\n",
    "b.write(\"Sn, Name, Addres, Age\\n\")\n",
    "data = \"\"\n",
    "n= int(input(\"Enter n = \"))\n",
    "for i in range(1,n+1):\n",
    "    name = input(\"Enter name = \")\n",
    "    address = input(\"Enter Address = \")\n",
    "    age = input(\"Enter Age = \")\n",
    "    info = f\"{i},{name},{address},{age}\\n\"\n",
    "    data = data + info\n",
    "b.write(data)\n",
    "b.close()"
   ]
  },
  {
   "cell_type": "code",
   "execution_count": 6,
   "metadata": {},
   "outputs": [
    {
     "data": {
      "text/html": [
       "<div>\n",
       "<style scoped>\n",
       "    .dataframe tbody tr th:only-of-type {\n",
       "        vertical-align: middle;\n",
       "    }\n",
       "\n",
       "    .dataframe tbody tr th {\n",
       "        vertical-align: top;\n",
       "    }\n",
       "\n",
       "    .dataframe thead th {\n",
       "        text-align: right;\n",
       "    }\n",
       "</style>\n",
       "<table border=\"1\" class=\"dataframe\">\n",
       "  <thead>\n",
       "    <tr style=\"text-align: right;\">\n",
       "      <th></th>\n",
       "      <th>Name</th>\n",
       "      <th>Addres</th>\n",
       "      <th>Age</th>\n",
       "    </tr>\n",
       "    <tr>\n",
       "      <th>Sn</th>\n",
       "      <th></th>\n",
       "      <th></th>\n",
       "      <th></th>\n",
       "    </tr>\n",
       "  </thead>\n",
       "  <tbody>\n",
       "    <tr>\n",
       "      <td>1</td>\n",
       "      <td>om</td>\n",
       "      <td>fsdjh</td>\n",
       "      <td>44</td>\n",
       "    </tr>\n",
       "    <tr>\n",
       "      <td>2</td>\n",
       "      <td>fjshj</td>\n",
       "      <td>1321</td>\n",
       "      <td>124</td>\n",
       "    </tr>\n",
       "    <tr>\n",
       "      <td>3</td>\n",
       "      <td>fkhWJK</td>\n",
       "      <td>GFHJ</td>\n",
       "      <td>12</td>\n",
       "    </tr>\n",
       "    <tr>\n",
       "      <td>4</td>\n",
       "      <td>JFNJKAH</td>\n",
       "      <td>14</td>\n",
       "      <td>1</td>\n",
       "    </tr>\n",
       "  </tbody>\n",
       "</table>\n",
       "</div>"
      ],
      "text/plain": [
       "       Name  Addres   Age\n",
       "Sn                       \n",
       "1        om   fsdjh    44\n",
       "2     fjshj    1321   124\n",
       "3    fkhWJK    GFHJ    12\n",
       "4   JFNJKAH      14     1"
      ]
     },
     "execution_count": 6,
     "metadata": {},
     "output_type": "execute_result"
    }
   ],
   "source": [
    "import pandas as pd\n",
    "df = pd.read_csv('file.csv',index_col = \"Sn\")\n",
    "df"
   ]
  },
  {
   "cell_type": "code",
   "execution_count": 8,
   "metadata": {},
   "outputs": [
    {
     "data": {
      "text/html": [
       "<div>\n",
       "<style scoped>\n",
       "    .dataframe tbody tr th:only-of-type {\n",
       "        vertical-align: middle;\n",
       "    }\n",
       "\n",
       "    .dataframe tbody tr th {\n",
       "        vertical-align: top;\n",
       "    }\n",
       "\n",
       "    .dataframe thead th {\n",
       "        text-align: right;\n",
       "    }\n",
       "</style>\n",
       "<table border=\"1\" class=\"dataframe\">\n",
       "  <thead>\n",
       "    <tr style=\"text-align: right;\">\n",
       "      <th></th>\n",
       "      <th>Name</th>\n",
       "      <th>Addres</th>\n",
       "      <th>Age</th>\n",
       "    </tr>\n",
       "    <tr>\n",
       "      <th>Sn</th>\n",
       "      <th></th>\n",
       "      <th></th>\n",
       "      <th></th>\n",
       "    </tr>\n",
       "  </thead>\n",
       "  <tbody>\n",
       "    <tr>\n",
       "      <td>1</td>\n",
       "      <td>om</td>\n",
       "      <td>fsdjh</td>\n",
       "      <td>44</td>\n",
       "    </tr>\n",
       "    <tr>\n",
       "      <td>2</td>\n",
       "      <td>fjshj</td>\n",
       "      <td>1321</td>\n",
       "      <td>124</td>\n",
       "    </tr>\n",
       "  </tbody>\n",
       "</table>\n",
       "</div>"
      ],
      "text/plain": [
       "     Name  Addres   Age\n",
       "Sn                     \n",
       "1      om   fsdjh    44\n",
       "2   fjshj    1321   124"
      ]
     },
     "execution_count": 8,
     "metadata": {},
     "output_type": "execute_result"
    }
   ],
   "source": [
    "import pandas as pd\n",
    "df = pd.read_csv('file.csv',index_col = \"Sn\")\n",
    "df.head(2) # value print from top "
   ]
  },
  {
   "cell_type": "code",
   "execution_count": 9,
   "metadata": {},
   "outputs": [
    {
     "data": {
      "text/html": [
       "<div>\n",
       "<style scoped>\n",
       "    .dataframe tbody tr th:only-of-type {\n",
       "        vertical-align: middle;\n",
       "    }\n",
       "\n",
       "    .dataframe tbody tr th {\n",
       "        vertical-align: top;\n",
       "    }\n",
       "\n",
       "    .dataframe thead th {\n",
       "        text-align: right;\n",
       "    }\n",
       "</style>\n",
       "<table border=\"1\" class=\"dataframe\">\n",
       "  <thead>\n",
       "    <tr style=\"text-align: right;\">\n",
       "      <th></th>\n",
       "      <th>Name</th>\n",
       "      <th>Addres</th>\n",
       "      <th>Age</th>\n",
       "    </tr>\n",
       "    <tr>\n",
       "      <th>Sn</th>\n",
       "      <th></th>\n",
       "      <th></th>\n",
       "      <th></th>\n",
       "    </tr>\n",
       "  </thead>\n",
       "  <tbody>\n",
       "    <tr>\n",
       "      <td>3</td>\n",
       "      <td>fkhWJK</td>\n",
       "      <td>GFHJ</td>\n",
       "      <td>12</td>\n",
       "    </tr>\n",
       "    <tr>\n",
       "      <td>4</td>\n",
       "      <td>JFNJKAH</td>\n",
       "      <td>14</td>\n",
       "      <td>1</td>\n",
       "    </tr>\n",
       "  </tbody>\n",
       "</table>\n",
       "</div>"
      ],
      "text/plain": [
       "       Name  Addres   Age\n",
       "Sn                       \n",
       "3    fkhWJK    GFHJ    12\n",
       "4   JFNJKAH      14     1"
      ]
     },
     "execution_count": 9,
     "metadata": {},
     "output_type": "execute_result"
    }
   ],
   "source": [
    "import pandas as pd\n",
    "df = pd.read_csv('file.csv',index_col = \"Sn\")\n",
    "df.tail(2)"
   ]
  },
  {
   "cell_type": "code",
   "execution_count": 13,
   "metadata": {},
   "outputs": [
    {
     "data": {
      "text/html": [
       "<div>\n",
       "<style scoped>\n",
       "    .dataframe tbody tr th:only-of-type {\n",
       "        vertical-align: middle;\n",
       "    }\n",
       "\n",
       "    .dataframe tbody tr th {\n",
       "        vertical-align: top;\n",
       "    }\n",
       "\n",
       "    .dataframe thead th {\n",
       "        text-align: right;\n",
       "    }\n",
       "</style>\n",
       "<table border=\"1\" class=\"dataframe\">\n",
       "  <thead>\n",
       "    <tr style=\"text-align: right;\">\n",
       "      <th></th>\n",
       "      <th>Name</th>\n",
       "      <th>Addres</th>\n",
       "    </tr>\n",
       "    <tr>\n",
       "      <th>Sn</th>\n",
       "      <th></th>\n",
       "      <th></th>\n",
       "    </tr>\n",
       "  </thead>\n",
       "  <tbody>\n",
       "    <tr>\n",
       "      <td>1</td>\n",
       "      <td>om</td>\n",
       "      <td>fsdjh</td>\n",
       "    </tr>\n",
       "    <tr>\n",
       "      <td>2</td>\n",
       "      <td>fjshj</td>\n",
       "      <td>1321</td>\n",
       "    </tr>\n",
       "    <tr>\n",
       "      <td>3</td>\n",
       "      <td>fkhWJK</td>\n",
       "      <td>GFHJ</td>\n",
       "    </tr>\n",
       "    <tr>\n",
       "      <td>4</td>\n",
       "      <td>JFNJKAH</td>\n",
       "      <td>14</td>\n",
       "    </tr>\n",
       "  </tbody>\n",
       "</table>\n",
       "</div>"
      ],
      "text/plain": [
       "       Name Addres\n",
       "Sn                \n",
       "1        om  fsdjh\n",
       "2     fjshj   1321\n",
       "3    fkhWJK   GFHJ\n",
       "4   JFNJKAH     14"
      ]
     },
     "execution_count": 13,
     "metadata": {},
     "output_type": "execute_result"
    }
   ],
   "source": [
    "import pandas as pd\n",
    "l = ['Sn','Name','Addres']\n",
    "df = pd.read_csv('file.csv',index_col = \"Sn\", usecols = l)\n",
    "df"
   ]
  },
  {
   "cell_type": "code",
   "execution_count": 15,
   "metadata": {},
   "outputs": [
    {
     "data": {
      "text/html": [
       "<div>\n",
       "<style scoped>\n",
       "    .dataframe tbody tr th:only-of-type {\n",
       "        vertical-align: middle;\n",
       "    }\n",
       "\n",
       "    .dataframe tbody tr th {\n",
       "        vertical-align: top;\n",
       "    }\n",
       "\n",
       "    .dataframe thead th {\n",
       "        text-align: right;\n",
       "    }\n",
       "</style>\n",
       "<table border=\"1\" class=\"dataframe\">\n",
       "  <thead>\n",
       "    <tr style=\"text-align: right;\">\n",
       "      <th></th>\n",
       "      <th>Name</th>\n",
       "      <th>Addres</th>\n",
       "    </tr>\n",
       "    <tr>\n",
       "      <th>Sn</th>\n",
       "      <th></th>\n",
       "      <th></th>\n",
       "    </tr>\n",
       "  </thead>\n",
       "  <tbody>\n",
       "    <tr>\n",
       "      <td>1</td>\n",
       "      <td>om</td>\n",
       "      <td>fsdjh</td>\n",
       "    </tr>\n",
       "    <tr>\n",
       "      <td>2</td>\n",
       "      <td>fjshj</td>\n",
       "      <td>1321</td>\n",
       "    </tr>\n",
       "    <tr>\n",
       "      <td>3</td>\n",
       "      <td>fkhWJK</td>\n",
       "      <td>GFHJ</td>\n",
       "    </tr>\n",
       "    <tr>\n",
       "      <td>4</td>\n",
       "      <td>JFNJKAH</td>\n",
       "      <td>14</td>\n",
       "    </tr>\n",
       "  </tbody>\n",
       "</table>\n",
       "</div>"
      ],
      "text/plain": [
       "       Name Addres\n",
       "Sn                \n",
       "1        om  fsdjh\n",
       "2     fjshj   1321\n",
       "3    fkhWJK   GFHJ\n",
       "4   JFNJKAH     14"
      ]
     },
     "execution_count": 15,
     "metadata": {},
     "output_type": "execute_result"
    }
   ],
   "source": [
    "import pandas as pd\n",
    "df = pd.read_csv('file.csv',index_col = \"Sn\")\n",
    "df.iloc[0:4,0:2] #[rows(start,last) , column(start,last)]"
   ]
  },
  {
   "cell_type": "code",
   "execution_count": 16,
   "metadata": {},
   "outputs": [
    {
     "data": {
      "text/html": [
       "<div>\n",
       "<style scoped>\n",
       "    .dataframe tbody tr th:only-of-type {\n",
       "        vertical-align: middle;\n",
       "    }\n",
       "\n",
       "    .dataframe tbody tr th {\n",
       "        vertical-align: top;\n",
       "    }\n",
       "\n",
       "    .dataframe thead th {\n",
       "        text-align: right;\n",
       "    }\n",
       "</style>\n",
       "<table border=\"1\" class=\"dataframe\">\n",
       "  <thead>\n",
       "    <tr style=\"text-align: right;\">\n",
       "      <th></th>\n",
       "      <th>Name</th>\n",
       "      <th>Addres</th>\n",
       "      <th>Age</th>\n",
       "    </tr>\n",
       "    <tr>\n",
       "      <th>Sn</th>\n",
       "      <th></th>\n",
       "      <th></th>\n",
       "      <th></th>\n",
       "    </tr>\n",
       "  </thead>\n",
       "  <tbody>\n",
       "    <tr>\n",
       "      <td>2</td>\n",
       "      <td>fjshj</td>\n",
       "      <td>1321</td>\n",
       "      <td>124</td>\n",
       "    </tr>\n",
       "    <tr>\n",
       "      <td>3</td>\n",
       "      <td>fkhWJK</td>\n",
       "      <td>GFHJ</td>\n",
       "      <td>12</td>\n",
       "    </tr>\n",
       "    <tr>\n",
       "      <td>4</td>\n",
       "      <td>JFNJKAH</td>\n",
       "      <td>14</td>\n",
       "      <td>1</td>\n",
       "    </tr>\n",
       "  </tbody>\n",
       "</table>\n",
       "</div>"
      ],
      "text/plain": [
       "       Name Addres  Age\n",
       "Sn                     \n",
       "2     fjshj   1321  124\n",
       "3    fkhWJK   GFHJ   12\n",
       "4   JFNJKAH     14    1"
      ]
     },
     "execution_count": 16,
     "metadata": {},
     "output_type": "execute_result"
    }
   ],
   "source": [
    "import pandas as pd\n",
    "df = pd.read_csv('file.csv',index_col = \"Sn\")\n",
    "df.loc[2:5]"
   ]
  },
  {
   "cell_type": "code",
   "execution_count": 23,
   "metadata": {},
   "outputs": [
    {
     "ename": "KeyError",
     "evalue": "\"Cannot get left slice bound for non-unique label: 'om'\"",
     "output_type": "error",
     "traceback": [
      "\u001b[1;31m---------------------------------------------------------------------------\u001b[0m",
      "\u001b[1;31mKeyError\u001b[0m                                  Traceback (most recent call last)",
      "\u001b[1;32m<ipython-input-23-175ae432167c>\u001b[0m in \u001b[0;36m<module>\u001b[1;34m\u001b[0m\n\u001b[0;32m      1\u001b[0m \u001b[1;32mimport\u001b[0m \u001b[0mpandas\u001b[0m \u001b[1;32mas\u001b[0m \u001b[0mpd\u001b[0m\u001b[1;33m\u001b[0m\u001b[1;33m\u001b[0m\u001b[0m\n\u001b[0;32m      2\u001b[0m \u001b[0mdf\u001b[0m \u001b[1;33m=\u001b[0m \u001b[0mpd\u001b[0m\u001b[1;33m.\u001b[0m\u001b[0mread_csv\u001b[0m\u001b[1;33m(\u001b[0m\u001b[1;34m'file.csv'\u001b[0m\u001b[1;33m,\u001b[0m\u001b[0mindex_col\u001b[0m \u001b[1;33m=\u001b[0m \u001b[1;34m\"Name\"\u001b[0m\u001b[1;33m)\u001b[0m\u001b[1;33m\u001b[0m\u001b[1;33m\u001b[0m\u001b[0m\n\u001b[1;32m----> 3\u001b[1;33m \u001b[0mdf\u001b[0m\u001b[1;33m[\u001b[0m\u001b[1;34m'om'\u001b[0m\u001b[1;33m:\u001b[0m\u001b[1;34m'fkhWJK'\u001b[0m\u001b[1;33m]\u001b[0m\u001b[1;33m\u001b[0m\u001b[1;33m\u001b[0m\u001b[0m\n\u001b[0m",
      "\u001b[1;32m~\\Anaconda3\\lib\\site-packages\\pandas\\core\\frame.py\u001b[0m in \u001b[0;36m__getitem__\u001b[1;34m(self, key)\u001b[0m\n\u001b[0;32m   2959\u001b[0m \u001b[1;33m\u001b[0m\u001b[0m\n\u001b[0;32m   2960\u001b[0m         \u001b[1;31m# Do we have a slicer (on rows)?\u001b[0m\u001b[1;33m\u001b[0m\u001b[1;33m\u001b[0m\u001b[1;33m\u001b[0m\u001b[0m\n\u001b[1;32m-> 2961\u001b[1;33m         \u001b[0mindexer\u001b[0m \u001b[1;33m=\u001b[0m \u001b[0mconvert_to_index_sliceable\u001b[0m\u001b[1;33m(\u001b[0m\u001b[0mself\u001b[0m\u001b[1;33m,\u001b[0m \u001b[0mkey\u001b[0m\u001b[1;33m)\u001b[0m\u001b[1;33m\u001b[0m\u001b[1;33m\u001b[0m\u001b[0m\n\u001b[0m\u001b[0;32m   2962\u001b[0m         \u001b[1;32mif\u001b[0m \u001b[0mindexer\u001b[0m \u001b[1;32mis\u001b[0m \u001b[1;32mnot\u001b[0m \u001b[1;32mNone\u001b[0m\u001b[1;33m:\u001b[0m\u001b[1;33m\u001b[0m\u001b[1;33m\u001b[0m\u001b[0m\n\u001b[0;32m   2963\u001b[0m             \u001b[1;32mreturn\u001b[0m \u001b[0mself\u001b[0m\u001b[1;33m.\u001b[0m\u001b[0m_slice\u001b[0m\u001b[1;33m(\u001b[0m\u001b[0mindexer\u001b[0m\u001b[1;33m,\u001b[0m \u001b[0maxis\u001b[0m\u001b[1;33m=\u001b[0m\u001b[1;36m0\u001b[0m\u001b[1;33m)\u001b[0m\u001b[1;33m\u001b[0m\u001b[1;33m\u001b[0m\u001b[0m\n",
      "\u001b[1;32m~\\Anaconda3\\lib\\site-packages\\pandas\\core\\indexing.py\u001b[0m in \u001b[0;36mconvert_to_index_sliceable\u001b[1;34m(obj, key)\u001b[0m\n\u001b[0;32m   2356\u001b[0m     \u001b[0midx\u001b[0m \u001b[1;33m=\u001b[0m \u001b[0mobj\u001b[0m\u001b[1;33m.\u001b[0m\u001b[0mindex\u001b[0m\u001b[1;33m\u001b[0m\u001b[1;33m\u001b[0m\u001b[0m\n\u001b[0;32m   2357\u001b[0m     \u001b[1;32mif\u001b[0m \u001b[0misinstance\u001b[0m\u001b[1;33m(\u001b[0m\u001b[0mkey\u001b[0m\u001b[1;33m,\u001b[0m \u001b[0mslice\u001b[0m\u001b[1;33m)\u001b[0m\u001b[1;33m:\u001b[0m\u001b[1;33m\u001b[0m\u001b[1;33m\u001b[0m\u001b[0m\n\u001b[1;32m-> 2358\u001b[1;33m         \u001b[1;32mreturn\u001b[0m \u001b[0midx\u001b[0m\u001b[1;33m.\u001b[0m\u001b[0m_convert_slice_indexer\u001b[0m\u001b[1;33m(\u001b[0m\u001b[0mkey\u001b[0m\u001b[1;33m,\u001b[0m \u001b[0mkind\u001b[0m\u001b[1;33m=\u001b[0m\u001b[1;34m\"getitem\"\u001b[0m\u001b[1;33m)\u001b[0m\u001b[1;33m\u001b[0m\u001b[1;33m\u001b[0m\u001b[0m\n\u001b[0m\u001b[0;32m   2359\u001b[0m \u001b[1;33m\u001b[0m\u001b[0m\n\u001b[0;32m   2360\u001b[0m     \u001b[1;32melif\u001b[0m \u001b[0misinstance\u001b[0m\u001b[1;33m(\u001b[0m\u001b[0mkey\u001b[0m\u001b[1;33m,\u001b[0m \u001b[0mstr\u001b[0m\u001b[1;33m)\u001b[0m\u001b[1;33m:\u001b[0m\u001b[1;33m\u001b[0m\u001b[1;33m\u001b[0m\u001b[0m\n",
      "\u001b[1;32m~\\Anaconda3\\lib\\site-packages\\pandas\\core\\indexes\\base.py\u001b[0m in \u001b[0;36m_convert_slice_indexer\u001b[1;34m(self, key, kind)\u001b[0m\n\u001b[0;32m   3214\u001b[0m         \u001b[1;32melse\u001b[0m\u001b[1;33m:\u001b[0m\u001b[1;33m\u001b[0m\u001b[1;33m\u001b[0m\u001b[0m\n\u001b[0;32m   3215\u001b[0m             \u001b[1;32mtry\u001b[0m\u001b[1;33m:\u001b[0m\u001b[1;33m\u001b[0m\u001b[1;33m\u001b[0m\u001b[0m\n\u001b[1;32m-> 3216\u001b[1;33m                 \u001b[0mindexer\u001b[0m \u001b[1;33m=\u001b[0m \u001b[0mself\u001b[0m\u001b[1;33m.\u001b[0m\u001b[0mslice_indexer\u001b[0m\u001b[1;33m(\u001b[0m\u001b[0mstart\u001b[0m\u001b[1;33m,\u001b[0m \u001b[0mstop\u001b[0m\u001b[1;33m,\u001b[0m \u001b[0mstep\u001b[0m\u001b[1;33m,\u001b[0m \u001b[0mkind\u001b[0m\u001b[1;33m=\u001b[0m\u001b[0mkind\u001b[0m\u001b[1;33m)\u001b[0m\u001b[1;33m\u001b[0m\u001b[1;33m\u001b[0m\u001b[0m\n\u001b[0m\u001b[0;32m   3217\u001b[0m             \u001b[1;32mexcept\u001b[0m \u001b[0mException\u001b[0m\u001b[1;33m:\u001b[0m\u001b[1;33m\u001b[0m\u001b[1;33m\u001b[0m\u001b[0m\n\u001b[0;32m   3218\u001b[0m                 \u001b[1;32mif\u001b[0m \u001b[0mis_index_slice\u001b[0m\u001b[1;33m:\u001b[0m\u001b[1;33m\u001b[0m\u001b[1;33m\u001b[0m\u001b[0m\n",
      "\u001b[1;32m~\\Anaconda3\\lib\\site-packages\\pandas\\core\\indexes\\base.py\u001b[0m in \u001b[0;36mslice_indexer\u001b[1;34m(self, start, end, step, kind)\u001b[0m\n\u001b[0;32m   5032\u001b[0m         \u001b[0mslice\u001b[0m\u001b[1;33m(\u001b[0m\u001b[1;36m1\u001b[0m\u001b[1;33m,\u001b[0m \u001b[1;36m3\u001b[0m\u001b[1;33m)\u001b[0m\u001b[1;33m\u001b[0m\u001b[1;33m\u001b[0m\u001b[0m\n\u001b[0;32m   5033\u001b[0m         \"\"\"\n\u001b[1;32m-> 5034\u001b[1;33m         \u001b[0mstart_slice\u001b[0m\u001b[1;33m,\u001b[0m \u001b[0mend_slice\u001b[0m \u001b[1;33m=\u001b[0m \u001b[0mself\u001b[0m\u001b[1;33m.\u001b[0m\u001b[0mslice_locs\u001b[0m\u001b[1;33m(\u001b[0m\u001b[0mstart\u001b[0m\u001b[1;33m,\u001b[0m \u001b[0mend\u001b[0m\u001b[1;33m,\u001b[0m \u001b[0mstep\u001b[0m\u001b[1;33m=\u001b[0m\u001b[0mstep\u001b[0m\u001b[1;33m,\u001b[0m \u001b[0mkind\u001b[0m\u001b[1;33m=\u001b[0m\u001b[0mkind\u001b[0m\u001b[1;33m)\u001b[0m\u001b[1;33m\u001b[0m\u001b[1;33m\u001b[0m\u001b[0m\n\u001b[0m\u001b[0;32m   5035\u001b[0m \u001b[1;33m\u001b[0m\u001b[0m\n\u001b[0;32m   5036\u001b[0m         \u001b[1;31m# return a slice\u001b[0m\u001b[1;33m\u001b[0m\u001b[1;33m\u001b[0m\u001b[1;33m\u001b[0m\u001b[0m\n",
      "\u001b[1;32m~\\Anaconda3\\lib\\site-packages\\pandas\\core\\indexes\\base.py\u001b[0m in \u001b[0;36mslice_locs\u001b[1;34m(self, start, end, step, kind)\u001b[0m\n\u001b[0;32m   5246\u001b[0m         \u001b[0mstart_slice\u001b[0m \u001b[1;33m=\u001b[0m \u001b[1;32mNone\u001b[0m\u001b[1;33m\u001b[0m\u001b[1;33m\u001b[0m\u001b[0m\n\u001b[0;32m   5247\u001b[0m         \u001b[1;32mif\u001b[0m \u001b[0mstart\u001b[0m \u001b[1;32mis\u001b[0m \u001b[1;32mnot\u001b[0m \u001b[1;32mNone\u001b[0m\u001b[1;33m:\u001b[0m\u001b[1;33m\u001b[0m\u001b[1;33m\u001b[0m\u001b[0m\n\u001b[1;32m-> 5248\u001b[1;33m             \u001b[0mstart_slice\u001b[0m \u001b[1;33m=\u001b[0m \u001b[0mself\u001b[0m\u001b[1;33m.\u001b[0m\u001b[0mget_slice_bound\u001b[0m\u001b[1;33m(\u001b[0m\u001b[0mstart\u001b[0m\u001b[1;33m,\u001b[0m \u001b[1;34m\"left\"\u001b[0m\u001b[1;33m,\u001b[0m \u001b[0mkind\u001b[0m\u001b[1;33m)\u001b[0m\u001b[1;33m\u001b[0m\u001b[1;33m\u001b[0m\u001b[0m\n\u001b[0m\u001b[0;32m   5249\u001b[0m         \u001b[1;32mif\u001b[0m \u001b[0mstart_slice\u001b[0m \u001b[1;32mis\u001b[0m \u001b[1;32mNone\u001b[0m\u001b[1;33m:\u001b[0m\u001b[1;33m\u001b[0m\u001b[1;33m\u001b[0m\u001b[0m\n\u001b[0;32m   5250\u001b[0m             \u001b[0mstart_slice\u001b[0m \u001b[1;33m=\u001b[0m \u001b[1;36m0\u001b[0m\u001b[1;33m\u001b[0m\u001b[1;33m\u001b[0m\u001b[0m\n",
      "\u001b[1;32m~\\Anaconda3\\lib\\site-packages\\pandas\\core\\indexes\\base.py\u001b[0m in \u001b[0;36mget_slice_bound\u001b[1;34m(self, label, side, kind)\u001b[0m\n\u001b[0;32m   5180\u001b[0m                 raise KeyError(\n\u001b[0;32m   5181\u001b[0m                     \u001b[1;34m\"Cannot get %s slice bound for non-unique \"\u001b[0m\u001b[1;33m\u001b[0m\u001b[1;33m\u001b[0m\u001b[0m\n\u001b[1;32m-> 5182\u001b[1;33m                     \u001b[1;34m\"label: %r\"\u001b[0m \u001b[1;33m%\u001b[0m \u001b[1;33m(\u001b[0m\u001b[0mside\u001b[0m\u001b[1;33m,\u001b[0m \u001b[0moriginal_label\u001b[0m\u001b[1;33m)\u001b[0m\u001b[1;33m\u001b[0m\u001b[1;33m\u001b[0m\u001b[0m\n\u001b[0m\u001b[0;32m   5183\u001b[0m                 )\n\u001b[0;32m   5184\u001b[0m \u001b[1;33m\u001b[0m\u001b[0m\n",
      "\u001b[1;31mKeyError\u001b[0m: \"Cannot get left slice bound for non-unique label: 'om'\""
     ]
    }
   ],
   "source": [
    "import pandas as pd\n",
    "df = pd.read_csv('file.csv',index_col = \"Name\")\n",
    "df['om':'fkhWJK']"
   ]
  },
  {
   "cell_type": "code",
   "execution_count": 24,
   "metadata": {},
   "outputs": [
    {
     "data": {
      "text/html": [
       "<div>\n",
       "<style scoped>\n",
       "    .dataframe tbody tr th:only-of-type {\n",
       "        vertical-align: middle;\n",
       "    }\n",
       "\n",
       "    .dataframe tbody tr th {\n",
       "        vertical-align: top;\n",
       "    }\n",
       "\n",
       "    .dataframe thead th {\n",
       "        text-align: right;\n",
       "    }\n",
       "</style>\n",
       "<table border=\"1\" class=\"dataframe\">\n",
       "  <thead>\n",
       "    <tr style=\"text-align: right;\">\n",
       "      <th></th>\n",
       "      <th>Name</th>\n",
       "      <th>Addres</th>\n",
       "      <th>Age</th>\n",
       "    </tr>\n",
       "    <tr>\n",
       "      <th>Sn</th>\n",
       "      <th></th>\n",
       "      <th></th>\n",
       "      <th></th>\n",
       "    </tr>\n",
       "  </thead>\n",
       "  <tbody>\n",
       "    <tr>\n",
       "      <td>2</td>\n",
       "      <td>fjshj</td>\n",
       "      <td>1321</td>\n",
       "      <td>124</td>\n",
       "    </tr>\n",
       "  </tbody>\n",
       "</table>\n",
       "</div>"
      ],
      "text/plain": [
       "     Name Addres  Age\n",
       "Sn                   \n",
       "2   fjshj   1321  124"
      ]
     },
     "execution_count": 24,
     "metadata": {},
     "output_type": "execute_result"
    }
   ],
   "source": [
    "import pandas as pd\n",
    "df = pd.read_csv('file.csv',index_col = \"Sn\")\n",
    "df[df['Age'] > 60 ]"
   ]
  },
  {
   "cell_type": "code",
   "execution_count": 26,
   "metadata": {},
   "outputs": [],
   "source": [
    "import pandas as pd\n",
    "df = pd.read_csv('file.csv',index_col = \"Sn\")\n",
    "df1 = df[(df['Age'] > 60) & (df['Addres'] == '1321')  ]\n",
    "df1.to_csv('newdata.csv')"
   ]
  },
  {
   "cell_type": "code",
   "execution_count": 31,
   "metadata": {},
   "outputs": [
    {
     "data": {
      "text/html": [
       "<div>\n",
       "<style scoped>\n",
       "    .dataframe tbody tr th:only-of-type {\n",
       "        vertical-align: middle;\n",
       "    }\n",
       "\n",
       "    .dataframe tbody tr th {\n",
       "        vertical-align: top;\n",
       "    }\n",
       "\n",
       "    .dataframe thead th {\n",
       "        text-align: right;\n",
       "    }\n",
       "</style>\n",
       "<table border=\"1\" class=\"dataframe\">\n",
       "  <thead>\n",
       "    <tr style=\"text-align: right;\">\n",
       "      <th></th>\n",
       "      <th>Name</th>\n",
       "      <th>Age</th>\n",
       "      <th>Address</th>\n",
       "    </tr>\n",
       "  </thead>\n",
       "  <tbody>\n",
       "    <tr>\n",
       "      <td>0</td>\n",
       "      <td>Ram</td>\n",
       "      <td>67</td>\n",
       "      <td>Nepal</td>\n",
       "    </tr>\n",
       "    <tr>\n",
       "      <td>1</td>\n",
       "      <td>hari</td>\n",
       "      <td>45</td>\n",
       "      <td>Usa</td>\n",
       "    </tr>\n",
       "    <tr>\n",
       "      <td>2</td>\n",
       "      <td>Gita</td>\n",
       "      <td>78</td>\n",
       "      <td>China</td>\n",
       "    </tr>\n",
       "  </tbody>\n",
       "</table>\n",
       "</div>"
      ],
      "text/plain": [
       "   Name  Age Address\n",
       "0   Ram   67   Nepal\n",
       "1  hari   45     Usa\n",
       "2  Gita   78   China"
      ]
     },
     "execution_count": 31,
     "metadata": {},
     "output_type": "execute_result"
    }
   ],
   "source": [
    "import pandas as pd\n",
    "a = {\"Name\":['Ram','hari','Gita'],\n",
    "    \"Age\":[67,45,78],\n",
    "    \"Address\":[\"Nepal\",\"Usa\",\"China\"]}\n",
    "df = pd.DataFrame(a)\n",
    "df.to_csv('small_data.csv')\n",
    "df"
   ]
  },
  {
   "cell_type": "code",
   "execution_count": 38,
   "metadata": {
    "scrolled": true
   },
   "outputs": [
    {
     "name": "stdout",
     "output_type": "stream",
     "text": [
      "Enter the num of student = 5\n",
      "Enter the Name of Student = gopal\n",
      "Enter the Class & section = 10\n",
      "Enter the roll no of student = 1\n",
      "Enter the Contact no. = 98955151\n",
      "Enter the Name of Student = rupesh\n",
      "Enter the Class & section = 10\n",
      "Enter the roll no of student = 7\n",
      "Enter the Contact no. = 989512151\n",
      "Enter the Name of Student = mahesh\n",
      "Enter the Class & section = 9\n",
      "Enter the roll no of student = 15\n",
      "Enter the Contact no. = 9878421\n",
      "Enter the Name of Student = hari\n",
      "Enter the Class & section = 7\n",
      "Enter the roll no of student = 10\n",
      "Enter the Contact no. = 9845221\n",
      "Enter the Name of Student = niraj\n",
      "Enter the Class & section = 4\n",
      "Enter the roll no of student = 10\n",
      "Enter the Contact no. = 988754223262\n"
     ]
    }
   ],
   "source": [
    "#record sheet of student with their result Name, Class, Roll no, phone no, result(marks:- physics, maths, \n",
    "# chemistry, english, computer,nepali, biology)\n",
    "import pandas as pd\n",
    "sve= open('Student_Details.csv','a')\n",
    "sve.write(\"Sn, Name, Class, Roll No, Phone No,\\n\")\n",
    "data = \"\"\n",
    "n= int(input(\"Enter the num of student = \"))\n",
    "for i in range(n):\n",
    "    Name = input(\"Enter the Name of Student = \")\n",
    "    Class = input(\"Enter the Class & section = \")\n",
    "    Roll_no = int(input(\"Enter the roll no of student = \"))\n",
    "    Phn_no = int(input(\"Enter the Contact no. = \"))\n",
    "    details = f\"{i},{Name},{Class},{Roll_no},{Phn_no}\\n\"\n",
    "    data = data + details\n",
    "sve.write(data)\n",
    "sve.close()\n",
    "    \n"
   ]
  },
  {
   "cell_type": "code",
   "execution_count": 39,
   "metadata": {},
   "outputs": [
    {
     "data": {
      "text/html": [
       "<div>\n",
       "<style scoped>\n",
       "    .dataframe tbody tr th:only-of-type {\n",
       "        vertical-align: middle;\n",
       "    }\n",
       "\n",
       "    .dataframe tbody tr th {\n",
       "        vertical-align: top;\n",
       "    }\n",
       "\n",
       "    .dataframe thead th {\n",
       "        text-align: right;\n",
       "    }\n",
       "</style>\n",
       "<table border=\"1\" class=\"dataframe\">\n",
       "  <thead>\n",
       "    <tr style=\"text-align: right;\">\n",
       "      <th></th>\n",
       "      <th>Name</th>\n",
       "      <th>Class</th>\n",
       "      <th>Roll No</th>\n",
       "      <th>Phone No</th>\n",
       "      <th></th>\n",
       "    </tr>\n",
       "    <tr>\n",
       "      <th>Sn</th>\n",
       "      <th></th>\n",
       "      <th></th>\n",
       "      <th></th>\n",
       "      <th></th>\n",
       "      <th></th>\n",
       "    </tr>\n",
       "  </thead>\n",
       "  <tbody>\n",
       "    <tr>\n",
       "      <td>0</td>\n",
       "      <td>Anjal</td>\n",
       "      <td>10</td>\n",
       "      <td>2</td>\n",
       "      <td>9812121</td>\n",
       "      <td>NaN</td>\n",
       "    </tr>\n",
       "    <tr>\n",
       "      <td>1</td>\n",
       "      <td>om</td>\n",
       "      <td>10</td>\n",
       "      <td>5</td>\n",
       "      <td>98542115</td>\n",
       "      <td>NaN</td>\n",
       "    </tr>\n",
       "    <tr>\n",
       "      <td>2</td>\n",
       "      <td>pankaj</td>\n",
       "      <td>9</td>\n",
       "      <td>1</td>\n",
       "      <td>98451321654</td>\n",
       "      <td>NaN</td>\n",
       "    </tr>\n",
       "    <tr>\n",
       "      <td>3</td>\n",
       "      <td>sita</td>\n",
       "      <td>9</td>\n",
       "      <td>4</td>\n",
       "      <td>98645121321</td>\n",
       "      <td>NaN</td>\n",
       "    </tr>\n",
       "    <tr>\n",
       "      <td>4</td>\n",
       "      <td>samridhi</td>\n",
       "      <td>10</td>\n",
       "      <td>6</td>\n",
       "      <td>98542116</td>\n",
       "      <td>NaN</td>\n",
       "    </tr>\n",
       "    <tr>\n",
       "      <td>5</td>\n",
       "      <td>shreya</td>\n",
       "      <td>10</td>\n",
       "      <td>3</td>\n",
       "      <td>98521262121</td>\n",
       "      <td>NaN</td>\n",
       "    </tr>\n",
       "    <tr>\n",
       "      <td>6</td>\n",
       "      <td>ramesh</td>\n",
       "      <td>9</td>\n",
       "      <td>5</td>\n",
       "      <td>986512</td>\n",
       "      <td>NaN</td>\n",
       "    </tr>\n",
       "    <tr>\n",
       "      <td>7</td>\n",
       "      <td>gita</td>\n",
       "      <td>8</td>\n",
       "      <td>5</td>\n",
       "      <td>9894531321</td>\n",
       "      <td>NaN</td>\n",
       "    </tr>\n",
       "    <tr>\n",
       "      <td>8</td>\n",
       "      <td>ram</td>\n",
       "      <td>7</td>\n",
       "      <td>1</td>\n",
       "      <td>9851215312</td>\n",
       "      <td>NaN</td>\n",
       "    </tr>\n",
       "    <tr>\n",
       "      <td>9</td>\n",
       "      <td>shiv</td>\n",
       "      <td>4</td>\n",
       "      <td>8</td>\n",
       "      <td>98451215</td>\n",
       "      <td>NaN</td>\n",
       "    </tr>\n",
       "    <tr>\n",
       "      <td>Sn</td>\n",
       "      <td>Name</td>\n",
       "      <td>Class</td>\n",
       "      <td>Roll No</td>\n",
       "      <td>Phone No</td>\n",
       "      <td>NaN</td>\n",
       "    </tr>\n",
       "    <tr>\n",
       "      <td>0</td>\n",
       "      <td>gopal</td>\n",
       "      <td>10</td>\n",
       "      <td>1</td>\n",
       "      <td>98955151</td>\n",
       "      <td>NaN</td>\n",
       "    </tr>\n",
       "    <tr>\n",
       "      <td>1</td>\n",
       "      <td>rupesh</td>\n",
       "      <td>10</td>\n",
       "      <td>7</td>\n",
       "      <td>989512151</td>\n",
       "      <td>NaN</td>\n",
       "    </tr>\n",
       "    <tr>\n",
       "      <td>2</td>\n",
       "      <td>mahesh</td>\n",
       "      <td>9</td>\n",
       "      <td>15</td>\n",
       "      <td>9878421</td>\n",
       "      <td>NaN</td>\n",
       "    </tr>\n",
       "    <tr>\n",
       "      <td>3</td>\n",
       "      <td>hari</td>\n",
       "      <td>7</td>\n",
       "      <td>10</td>\n",
       "      <td>9845221</td>\n",
       "      <td>NaN</td>\n",
       "    </tr>\n",
       "    <tr>\n",
       "      <td>4</td>\n",
       "      <td>niraj</td>\n",
       "      <td>4</td>\n",
       "      <td>10</td>\n",
       "      <td>988754223262</td>\n",
       "      <td>NaN</td>\n",
       "    </tr>\n",
       "  </tbody>\n",
       "</table>\n",
       "</div>"
      ],
      "text/plain": [
       "        Name   Class   Roll No      Phone No    \n",
       "Sn                                              \n",
       "0      Anjal      10         2       9812121 NaN\n",
       "1         om      10         5      98542115 NaN\n",
       "2     pankaj       9         1   98451321654 NaN\n",
       "3       sita       9         4   98645121321 NaN\n",
       "4   samridhi      10         6      98542116 NaN\n",
       "5     shreya      10         3   98521262121 NaN\n",
       "6     ramesh       9         5        986512 NaN\n",
       "7       gita       8         5    9894531321 NaN\n",
       "8        ram       7         1    9851215312 NaN\n",
       "9       shiv       4         8      98451215 NaN\n",
       "Sn      Name   Class   Roll No      Phone No NaN\n",
       "0      gopal      10         1      98955151 NaN\n",
       "1     rupesh      10         7     989512151 NaN\n",
       "2     mahesh       9        15       9878421 NaN\n",
       "3       hari       7        10       9845221 NaN\n",
       "4      niraj       4        10  988754223262 NaN"
      ]
     },
     "execution_count": 39,
     "metadata": {},
     "output_type": "execute_result"
    }
   ],
   "source": [
    "import pandas as pd\n",
    "df = pd.read_csv('Student_Details.csv',index_col = \"Sn\")\n",
    "df"
   ]
  },
  {
   "cell_type": "code",
   "execution_count": 14,
   "metadata": {},
   "outputs": [
    {
     "data": {
      "text/html": [
       "<div>\n",
       "<style scoped>\n",
       "    .dataframe tbody tr th:only-of-type {\n",
       "        vertical-align: middle;\n",
       "    }\n",
       "\n",
       "    .dataframe tbody tr th {\n",
       "        vertical-align: top;\n",
       "    }\n",
       "\n",
       "    .dataframe thead th {\n",
       "        text-align: right;\n",
       "    }\n",
       "</style>\n",
       "<table border=\"1\" class=\"dataframe\">\n",
       "  <thead>\n",
       "    <tr style=\"text-align: right;\">\n",
       "      <th></th>\n",
       "      <th>Name</th>\n",
       "      <th>Class</th>\n",
       "      <th>Roll No</th>\n",
       "      <th>Phone No</th>\n",
       "      <th></th>\n",
       "    </tr>\n",
       "    <tr>\n",
       "      <th>Sn</th>\n",
       "      <th></th>\n",
       "      <th></th>\n",
       "      <th></th>\n",
       "      <th></th>\n",
       "      <th></th>\n",
       "    </tr>\n",
       "  </thead>\n",
       "  <tbody>\n",
       "    <tr>\n",
       "      <td>2</td>\n",
       "      <td>pankaj</td>\n",
       "      <td>9</td>\n",
       "      <td>1</td>\n",
       "      <td>98451321654</td>\n",
       "      <td>NaN</td>\n",
       "    </tr>\n",
       "    <tr>\n",
       "      <td>3</td>\n",
       "      <td>sita</td>\n",
       "      <td>9</td>\n",
       "      <td>4</td>\n",
       "      <td>98645121321</td>\n",
       "      <td>NaN</td>\n",
       "    </tr>\n",
       "    <tr>\n",
       "      <td>4</td>\n",
       "      <td>samridhi</td>\n",
       "      <td>10</td>\n",
       "      <td>6</td>\n",
       "      <td>98542116</td>\n",
       "      <td>NaN</td>\n",
       "    </tr>\n",
       "    <tr>\n",
       "      <td>5</td>\n",
       "      <td>shreya</td>\n",
       "      <td>10</td>\n",
       "      <td>3</td>\n",
       "      <td>98521262121</td>\n",
       "      <td>NaN</td>\n",
       "    </tr>\n",
       "  </tbody>\n",
       "</table>\n",
       "</div>"
      ],
      "text/plain": [
       "        Name   Class   Roll No     Phone No    \n",
       "Sn                                             \n",
       "2     pankaj       9         1  98451321654 NaN\n",
       "3       sita       9         4  98645121321 NaN\n",
       "4   samridhi      10         6     98542116 NaN\n",
       "5     shreya      10         3  98521262121 NaN"
      ]
     },
     "execution_count": 14,
     "metadata": {},
     "output_type": "execute_result"
    }
   ],
   "source": [
    "import pandas as pd\n",
    "df = pd.read_csv('Student_Details.csv',index_col = \"Sn\")\n",
    "df.loc[2:5]"
   ]
  },
  {
   "cell_type": "code",
   "execution_count": 40,
   "metadata": {},
   "outputs": [
    {
     "ename": "TypeError",
     "evalue": "'<' not supported between instances of 'str' and 'int'",
     "output_type": "error",
     "traceback": [
      "\u001b[1;31m---------------------------------------------------------------------------\u001b[0m",
      "\u001b[1;31mTypeError\u001b[0m                                 Traceback (most recent call last)",
      "\u001b[1;32m<ipython-input-40-73d23ea939c8>\u001b[0m in \u001b[0;36m<module>\u001b[1;34m\u001b[0m\n\u001b[0;32m      1\u001b[0m \u001b[0mdf\u001b[0m \u001b[1;33m=\u001b[0m \u001b[0mpd\u001b[0m\u001b[1;33m.\u001b[0m\u001b[0mread_csv\u001b[0m\u001b[1;33m(\u001b[0m\u001b[1;34m'Student_Details.csv'\u001b[0m\u001b[1;33m,\u001b[0m\u001b[0mindex_col\u001b[0m \u001b[1;33m=\u001b[0m \u001b[1;34m'Sn'\u001b[0m\u001b[1;33m)\u001b[0m\u001b[1;33m\u001b[0m\u001b[1;33m\u001b[0m\u001b[0m\n\u001b[1;32m----> 2\u001b[1;33m \u001b[0mdf1\u001b[0m \u001b[1;33m=\u001b[0m \u001b[0mdf\u001b[0m\u001b[1;33m[\u001b[0m\u001b[1;33m(\u001b[0m\u001b[0mdf\u001b[0m\u001b[1;33m[\u001b[0m\u001b[1;34m'Roll No'\u001b[0m\u001b[1;33m]\u001b[0m \u001b[1;33m<\u001b[0m \u001b[1;36m5\u001b[0m\u001b[1;33m)\u001b[0m \u001b[1;33m&\u001b[0m \u001b[1;33m(\u001b[0m\u001b[0mdf\u001b[0m\u001b[1;33m[\u001b[0m\u001b[1;34m'Class'\u001b[0m\u001b[1;33m]\u001b[0m \u001b[1;33m>\u001b[0m \u001b[1;36m9\u001b[0m\u001b[1;33m)\u001b[0m\u001b[1;33m]\u001b[0m\u001b[1;33m\u001b[0m\u001b[1;33m\u001b[0m\u001b[0m\n\u001b[0m\u001b[0;32m      3\u001b[0m \u001b[0mdf1\u001b[0m\u001b[1;33m\u001b[0m\u001b[1;33m\u001b[0m\u001b[0m\n",
      "\u001b[1;32m~\\Anaconda3\\lib\\site-packages\\pandas\\core\\ops\\__init__.py\u001b[0m in \u001b[0;36mwrapper\u001b[1;34m(self, other, axis)\u001b[0m\n\u001b[0;32m   1227\u001b[0m \u001b[1;33m\u001b[0m\u001b[0m\n\u001b[0;32m   1228\u001b[0m             \u001b[1;32mwith\u001b[0m \u001b[0mnp\u001b[0m\u001b[1;33m.\u001b[0m\u001b[0merrstate\u001b[0m\u001b[1;33m(\u001b[0m\u001b[0mall\u001b[0m\u001b[1;33m=\u001b[0m\u001b[1;34m\"ignore\"\u001b[0m\u001b[1;33m)\u001b[0m\u001b[1;33m:\u001b[0m\u001b[1;33m\u001b[0m\u001b[1;33m\u001b[0m\u001b[0m\n\u001b[1;32m-> 1229\u001b[1;33m                 \u001b[0mres\u001b[0m \u001b[1;33m=\u001b[0m \u001b[0mna_op\u001b[0m\u001b[1;33m(\u001b[0m\u001b[0mvalues\u001b[0m\u001b[1;33m,\u001b[0m \u001b[0mother\u001b[0m\u001b[1;33m)\u001b[0m\u001b[1;33m\u001b[0m\u001b[1;33m\u001b[0m\u001b[0m\n\u001b[0m\u001b[0;32m   1230\u001b[0m             \u001b[1;32mif\u001b[0m \u001b[0mis_scalar\u001b[0m\u001b[1;33m(\u001b[0m\u001b[0mres\u001b[0m\u001b[1;33m)\u001b[0m\u001b[1;33m:\u001b[0m\u001b[1;33m\u001b[0m\u001b[1;33m\u001b[0m\u001b[0m\n\u001b[0;32m   1231\u001b[0m                 raise TypeError(\n",
      "\u001b[1;32m~\\Anaconda3\\lib\\site-packages\\pandas\\core\\ops\\__init__.py\u001b[0m in \u001b[0;36mna_op\u001b[1;34m(x, y)\u001b[0m\n\u001b[0;32m   1089\u001b[0m \u001b[1;33m\u001b[0m\u001b[0m\n\u001b[0;32m   1090\u001b[0m         \u001b[1;32mif\u001b[0m \u001b[0mis_object_dtype\u001b[0m\u001b[1;33m(\u001b[0m\u001b[0mx\u001b[0m\u001b[1;33m.\u001b[0m\u001b[0mdtype\u001b[0m\u001b[1;33m)\u001b[0m\u001b[1;33m:\u001b[0m\u001b[1;33m\u001b[0m\u001b[1;33m\u001b[0m\u001b[0m\n\u001b[1;32m-> 1091\u001b[1;33m             \u001b[0mresult\u001b[0m \u001b[1;33m=\u001b[0m \u001b[0m_comp_method_OBJECT_ARRAY\u001b[0m\u001b[1;33m(\u001b[0m\u001b[0mop\u001b[0m\u001b[1;33m,\u001b[0m \u001b[0mx\u001b[0m\u001b[1;33m,\u001b[0m \u001b[0my\u001b[0m\u001b[1;33m)\u001b[0m\u001b[1;33m\u001b[0m\u001b[1;33m\u001b[0m\u001b[0m\n\u001b[0m\u001b[0;32m   1092\u001b[0m \u001b[1;33m\u001b[0m\u001b[0m\n\u001b[0;32m   1093\u001b[0m         \u001b[1;32melif\u001b[0m \u001b[0mis_datetimelike_v_numeric\u001b[0m\u001b[1;33m(\u001b[0m\u001b[0mx\u001b[0m\u001b[1;33m,\u001b[0m \u001b[0my\u001b[0m\u001b[1;33m)\u001b[0m\u001b[1;33m:\u001b[0m\u001b[1;33m\u001b[0m\u001b[1;33m\u001b[0m\u001b[0m\n",
      "\u001b[1;32m~\\Anaconda3\\lib\\site-packages\\pandas\\core\\ops\\__init__.py\u001b[0m in \u001b[0;36m_comp_method_OBJECT_ARRAY\u001b[1;34m(op, x, y)\u001b[0m\n\u001b[0;32m   1067\u001b[0m         \u001b[0mresult\u001b[0m \u001b[1;33m=\u001b[0m \u001b[0mlibops\u001b[0m\u001b[1;33m.\u001b[0m\u001b[0mvec_compare\u001b[0m\u001b[1;33m(\u001b[0m\u001b[0mx\u001b[0m\u001b[1;33m,\u001b[0m \u001b[0my\u001b[0m\u001b[1;33m,\u001b[0m \u001b[0mop\u001b[0m\u001b[1;33m)\u001b[0m\u001b[1;33m\u001b[0m\u001b[1;33m\u001b[0m\u001b[0m\n\u001b[0;32m   1068\u001b[0m     \u001b[1;32melse\u001b[0m\u001b[1;33m:\u001b[0m\u001b[1;33m\u001b[0m\u001b[1;33m\u001b[0m\u001b[0m\n\u001b[1;32m-> 1069\u001b[1;33m         \u001b[0mresult\u001b[0m \u001b[1;33m=\u001b[0m \u001b[0mlibops\u001b[0m\u001b[1;33m.\u001b[0m\u001b[0mscalar_compare\u001b[0m\u001b[1;33m(\u001b[0m\u001b[0mx\u001b[0m\u001b[1;33m,\u001b[0m \u001b[0my\u001b[0m\u001b[1;33m,\u001b[0m \u001b[0mop\u001b[0m\u001b[1;33m)\u001b[0m\u001b[1;33m\u001b[0m\u001b[1;33m\u001b[0m\u001b[0m\n\u001b[0m\u001b[0;32m   1070\u001b[0m     \u001b[1;32mreturn\u001b[0m \u001b[0mresult\u001b[0m\u001b[1;33m\u001b[0m\u001b[1;33m\u001b[0m\u001b[0m\n\u001b[0;32m   1071\u001b[0m \u001b[1;33m\u001b[0m\u001b[0m\n",
      "\u001b[1;32mpandas\\_libs\\ops.pyx\u001b[0m in \u001b[0;36mpandas._libs.ops.scalar_compare\u001b[1;34m()\u001b[0m\n",
      "\u001b[1;31mTypeError\u001b[0m: '<' not supported between instances of 'str' and 'int'"
     ]
    }
   ],
   "source": [
    "df = pd.read_csv('Student_Details.csv',index_col = 'Sn')\n",
    "df1 = df[(df['Roll No'] < 5) & (df['Class'] > 9)]\n",
    "df1"
   ]
  },
  {
   "cell_type": "code",
   "execution_count": 1,
   "metadata": {},
   "outputs": [],
   "source": [
    "import csv\n",
    "csv_columns = ['Name','Age','Address']\n",
    "dict = [\n",
    "    {'Name':'Aayush','Age':23,'Address':'Kathmnadu'},\n",
    "    {'Name':'Shyam','Age':52,'Address':'Patan'}\n",
    "]\n",
    "f= open(\"data.csv\",'w')\n",
    "writer = csv.DictWriter(f,fieldnames= csv_columns)\n",
    "writer.writeheader()\n",
    "for data in dict:\n",
    "    writer.writerow(data)"
   ]
  },
  {
   "cell_type": "code",
   "execution_count": 2,
   "metadata": {},
   "outputs": [],
   "source": [
    "#oop Object Oriented programming\n",
    "# class class_name:\n",
    "#     <operations>\n",
    "#     <methods>\n",
    "# obj = class_name() inatilized the obj"
   ]
  },
  {
   "cell_type": "code",
   "execution_count": 14,
   "metadata": {},
   "outputs": [
    {
     "name": "stdout",
     "output_type": "stream",
     "text": [
      "Enter the length = 15\n",
      "Enter the breadth = 12\n",
      "Enter the height = 10\n",
      "Volume = 1800 \n",
      "Area = 180\n"
     ]
    }
   ],
   "source": [
    "class cal:\n",
    "    def volume(self,l,b,h):\n",
    "        v=l*b*h\n",
    "        print(f\"Volume = {v} \")\n",
    "    def area(self,l,b):\n",
    "        a=l*b\n",
    "        print(f\"Area = {a}\")\n",
    "        \n",
    "l=int(input(\"Enter the length = \"))\n",
    "b=int(input(\"Enter the breadth = \"))\n",
    "h=int(input(\"Enter the height = \"))\n",
    "obj = cal()\n",
    "obj.volume(l,b,h)\n",
    "obj.area(l,b)"
   ]
  },
  {
   "cell_type": "code",
   "execution_count": 15,
   "metadata": {},
   "outputs": [
    {
     "name": "stdout",
     "output_type": "stream",
     "text": [
      "Enter the length = 10\n",
      "Enter the breadth = 8\n",
      "Enter the height = 5\n",
      "400\n",
      "80\n"
     ]
    }
   ],
   "source": [
    "class cal:\n",
    "    def volume(self,l,b,h):\n",
    "        v=l*b*h\n",
    "        return v\n",
    "    def area(self,l,b):\n",
    "        a=l*b\n",
    "        return a\n",
    "        \n",
    "l=int(input(\"Enter the length = \"))\n",
    "b=int(input(\"Enter the breadth = \"))\n",
    "h=int(input(\"Enter the height = \"))\n",
    "obj = cal()\n",
    "ob1 = obj.volume(l,b,h)\n",
    "ob2 = obj.area(l,b)\n",
    "print(ob1)\n",
    "print(ob2)"
   ]
  },
  {
   "cell_type": "code",
   "execution_count": 17,
   "metadata": {},
   "outputs": [
    {
     "name": "stdout",
     "output_type": "stream",
     "text": [
      "Enter the length = 10\n",
      "Enter the breadth = 8\n",
      "Enter the height = 4\n"
     ]
    },
    {
     "ename": "TypeError",
     "evalue": "__init__() missing 1 required positional argument: 'name'",
     "output_type": "error",
     "traceback": [
      "\u001b[1;31m---------------------------------------------------------------------------\u001b[0m",
      "\u001b[1;31mTypeError\u001b[0m                                 Traceback (most recent call last)",
      "\u001b[1;32m<ipython-input-17-c39ab57d5e85>\u001b[0m in \u001b[0;36m<module>\u001b[1;34m\u001b[0m\n\u001b[0;32m     17\u001b[0m \u001b[0mb\u001b[0m\u001b[1;33m=\u001b[0m\u001b[0mint\u001b[0m\u001b[1;33m(\u001b[0m\u001b[0minput\u001b[0m\u001b[1;33m(\u001b[0m\u001b[1;34m\"Enter the breadth = \"\u001b[0m\u001b[1;33m)\u001b[0m\u001b[1;33m)\u001b[0m\u001b[1;33m\u001b[0m\u001b[1;33m\u001b[0m\u001b[0m\n\u001b[0;32m     18\u001b[0m \u001b[0mh\u001b[0m\u001b[1;33m=\u001b[0m\u001b[0mint\u001b[0m\u001b[1;33m(\u001b[0m\u001b[0minput\u001b[0m\u001b[1;33m(\u001b[0m\u001b[1;34m\"Enter the height = \"\u001b[0m\u001b[1;33m)\u001b[0m\u001b[1;33m)\u001b[0m\u001b[1;33m\u001b[0m\u001b[1;33m\u001b[0m\u001b[0m\n\u001b[1;32m---> 19\u001b[1;33m \u001b[0mobj\u001b[0m \u001b[1;33m=\u001b[0m \u001b[0mcal\u001b[0m\u001b[1;33m(\u001b[0m\u001b[0ml\u001b[0m\u001b[1;33m,\u001b[0m\u001b[0mb\u001b[0m\u001b[1;33m,\u001b[0m\u001b[0mh\u001b[0m\u001b[1;33m)\u001b[0m\u001b[1;33m\u001b[0m\u001b[1;33m\u001b[0m\u001b[0m\n\u001b[0m\u001b[0;32m     20\u001b[0m \u001b[0mob1\u001b[0m \u001b[1;33m=\u001b[0m \u001b[0mobj\u001b[0m\u001b[1;33m.\u001b[0m\u001b[0mvolume\u001b[0m\u001b[1;33m(\u001b[0m\u001b[1;33m)\u001b[0m\u001b[1;33m\u001b[0m\u001b[1;33m\u001b[0m\u001b[0m\n\u001b[0;32m     21\u001b[0m \u001b[0mob2\u001b[0m \u001b[1;33m=\u001b[0m \u001b[0mobj\u001b[0m\u001b[1;33m.\u001b[0m\u001b[0marea\u001b[0m\u001b[1;33m(\u001b[0m\u001b[1;33m)\u001b[0m\u001b[1;33m\u001b[0m\u001b[1;33m\u001b[0m\u001b[0m\n",
      "\u001b[1;31mTypeError\u001b[0m: __init__() missing 1 required positional argument: 'name'"
     ]
    }
   ],
   "source": [
    "class cal:\n",
    "    def __init__(self,l,b,h,name):\n",
    "        self.l=l\n",
    "        self.b=b\n",
    "        self.h=h\n",
    "        self.name=name\n",
    "    def volume(self):\n",
    "        v=self.l*self.b*self.h\n",
    "        return v\n",
    "    def area(self):\n",
    "        a=self.l*self.b\n",
    "        return a\n",
    "    def __str__(self):\n",
    "        return self.name\n",
    "    \n",
    "l=int(input(\"Enter the length = \"))\n",
    "b=int(input(\"Enter the breadth = \"))\n",
    "h=int(input(\"Enter the height = \"))\n",
    "obj = cal(l,b,h)\n",
    "ob1 = obj.volume()\n",
    "ob2 = obj.area()\n",
    "obs = cal(\"Ram\")\n",
    "print(obs)\n",
    "print(ob1)\n",
    "print(ob2)"
   ]
  },
  {
   "cell_type": "code",
   "execution_count": 6,
   "metadata": {},
   "outputs": [
    {
     "name": "stdout",
     "output_type": "stream",
     "text": [
      "Shyam 23\n",
      "Shyam 23\n"
     ]
    }
   ],
   "source": [
    "#Inheritance\n",
    "class A:\n",
    "    def __init__(self,name,age):\n",
    "        self.name = name\n",
    "        self.age = age\n",
    "        \n",
    "    def b(self):\n",
    "        print(self.name,self.age)\n",
    "        \n",
    "class B(A):\n",
    "    def a(self):\n",
    "        print(self.name,self.age)\n",
    "    \n",
    "obj = B(\"Shyam\",23)\n",
    "obj.b()\n",
    "obj.a()"
   ]
  },
  {
   "cell_type": "code",
   "execution_count": 9,
   "metadata": {},
   "outputs": [
    {
     "name": "stdout",
     "output_type": "stream",
     "text": [
      "Enter the length = 10\n",
      "Enter the Breadth = 8\n",
      "Enter the Height = 6\n",
      "The Volume = 480\n"
     ]
    }
   ],
   "source": [
    "class Cal:\n",
    "    def __init__(self):\n",
    "        self.l = int(input(\"Enter the length = \"))\n",
    "        self.b = int(input(\"Enter the Breadth = \"))\n",
    "        self.h = int(input(\"Enter the Height = \"))\n",
    "    \n",
    "class Volume(Cal):\n",
    "    def volume(self):\n",
    "        v = self.l*self.b*self.h\n",
    "        return v\n",
    "\n",
    "obj = Volume()\n",
    "print(f\"The Volume = {obj.volume()}\")"
   ]
  },
  {
   "cell_type": "code",
   "execution_count": 2,
   "metadata": {},
   "outputs": [
    {
     "name": "stdout",
     "output_type": "stream",
     "text": [
      "Enter the Height = 5\n",
      "Enter the length = 8\n",
      "Enter the Breadth = 6\n",
      "The Area = 48\n",
      "The Volume = 240\n"
     ]
    }
   ],
   "source": [
    "class Cal:\n",
    "    def __init__(self):\n",
    "        self.l = int(input(\"Enter the length = \"))\n",
    "        self.b = int(input(\"Enter the Breadth = \"))\n",
    "        \n",
    "    def area(self):\n",
    "        a= self.l*self.b\n",
    "        return a\n",
    "    \n",
    "class Volume(Cal):\n",
    "    def __init__(self):\n",
    "        self.h = int(input(\"Enter the Height = \"))\n",
    "        Cal.__init__(self) #calling constructor from inherit class for value l, b  *User Abstraction \n",
    "    def volume(self):\n",
    "        v = self.l*self.b*self.h\n",
    "        return v\n",
    "\n",
    "obj = Volume()\n",
    "print(f\"The Area = {obj.area()}\")\n",
    "print(f\"The Volume = {obj.volume()}\")"
   ]
  },
  {
   "cell_type": "code",
   "execution_count": null,
   "metadata": {},
   "outputs": [],
   "source": [
    "#name mambling bhane ko break oop rules (private variable can not access) for solve this problem\n",
    "# _classname__variables\n",
    "#inherit method or function of super class\n",
    "# {super().functionName()}\n"
   ]
  }
 ],
 "metadata": {
  "kernelspec": {
   "display_name": "Python 3",
   "language": "python",
   "name": "python3"
  },
  "language_info": {
   "codemirror_mode": {
    "name": "ipython",
    "version": 3
   },
   "file_extension": ".py",
   "mimetype": "text/x-python",
   "name": "python",
   "nbconvert_exporter": "python",
   "pygments_lexer": "ipython3",
   "version": "3.7.4"
  }
 },
 "nbformat": 4,
 "nbformat_minor": 2
}
